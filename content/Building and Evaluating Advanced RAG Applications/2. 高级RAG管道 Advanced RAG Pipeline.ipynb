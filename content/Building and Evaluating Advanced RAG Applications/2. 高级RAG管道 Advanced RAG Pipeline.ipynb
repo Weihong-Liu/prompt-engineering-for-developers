{
 "cells": [
  {
   "cell_type": "markdown",
   "id": "a9bff53e",
   "metadata": {},
   "source": [
    "# 第二章 高级的RAG管道"
   ]
  },
  {
   "cell_type": "code",
   "execution_count": 1,
   "id": "feb98470-c136-471d-a63e-d50d8eb09c57",
   "metadata": {
    "height": 98,
    "tags": []
   },
   "outputs": [
    {
     "name": "stdout",
     "output_type": "stream",
     "text": [
      "✅ In Answer Relevance, input prompt will be set to __record__.main_input or `Select.RecordInput` .\n",
      "✅ In Answer Relevance, input response will be set to __record__.main_output or `Select.RecordOutput` .\n",
      "✅ In Context Relevance, input prompt will be set to __record__.main_input or `Select.RecordInput` .\n",
      "✅ In Context Relevance, input response will be set to __record__.app.query.rets.source_nodes[:].node.text .\n",
      "✅ In Groundedness, input source will be set to __record__.app.query.rets.source_nodes[:].node.text .\n",
      "✅ In Groundedness, input statement will be set to __record__.main_output or `Select.RecordOutput` .\n"
     ]
    }
   ],
   "source": [
    "import utils\n",
    "\n",
    "import os\n",
    "import openai\n",
    "openai.api_key = utils.get_openai_api_key()"
   ]
  },
  {
   "cell_type": "markdown",
   "id": "7ca9cf15",
   "metadata": {},
   "source": [
    "载入文本数据"
   ]
  },
  {
   "cell_type": "code",
   "execution_count": 2,
   "id": "31e2859b-596e-40b3-867b-f4d6e91f74bc",
   "metadata": {
    "height": 98,
    "tags": []
   },
   "outputs": [],
   "source": [
    "from llama_index import SimpleDirectoryReader\n",
    "\n",
    "documents = SimpleDirectoryReader(\n",
    "    input_files=[\"data/人工智能.pdf\"]\n",
    ").load_data()"
   ]
  },
  {
   "cell_type": "code",
   "execution_count": 3,
   "id": "2d7d0857-b9d1-4feb-8243-bfd2f4953acd",
   "metadata": {
    "height": 81,
    "tags": []
   },
   "outputs": [
    {
     "name": "stdout",
     "output_type": "stream",
     "text": [
      "<class 'list'> \n",
      "\n",
      "7 \n",
      "\n",
      "<class 'llama_index.schema.Document'>\n",
      "Doc ID: f16f5ce4-8920-458e-8afc-3ef8add87cd8\n",
      "Text: 2/2/24, 2:43 PM ⼈⼯智能  - 维基百科，⾃由的百科全书\n",
      "https://zh.wikipedia.org/wiki/ ⼈⼯智能 2/13“⼈⼯智能”的各地常⽤名称 中国⼤陆⼈⼯智能 台湾⼈⼯智慧\n",
      "港澳⼈⼯智能 新⻢⼈⼯智能、⼈⼯智慧 ⽇韩⼈⼯知能 越南智慧⼈造 [展开] [展开] [展开] [展开] [展开] [展开]⼈⼯智能系列内容\n",
      "主要⽬标 实现⽅式 ⼈⼯智能哲学 历史 技术 术语⼈⼯智能（英语：artiﬁcial intelligence ，缩写为\n",
      "AI）亦称机器智能，指由⼈制造出来的机器所表现出来的智能。通常⼈⼯\n",
      "智能是指⽤普通计算机程序来呈现⼈类智能的技术。该词也指出研究这样的智能系统是否能够实现，以及如何实现。同 时，通过 医学 、神经科学\n",
      "、机器⼈学 及...\n"
     ]
    }
   ],
   "source": [
    "print(type(documents), \"\\n\")\n",
    "print(len(documents), \"\\n\")\n",
    "print(type(documents[0]))\n",
    "print(documents[0])"
   ]
  },
  {
   "cell_type": "code",
   "execution_count": 34,
   "id": "eeaddc7b",
   "metadata": {},
   "outputs": [],
   "source": [
    "from llama_index import SimpleDirectoryReader\n",
    "\n",
    "documents_en = SimpleDirectoryReader(\n",
    "    input_files=[\"data/eBook-How-to-Build-a-Career-in-AI.pdf\"]\n",
    ").load_data()"
   ]
  },
  {
   "cell_type": "code",
   "execution_count": 35,
   "id": "00880860",
   "metadata": {},
   "outputs": [
    {
     "name": "stdout",
     "output_type": "stream",
     "text": [
      "<class 'list'> \n",
      "\n",
      "41 \n",
      "\n",
      "<class 'llama_index.schema.Document'>\n",
      "Doc ID: 9dde8137-3f09-4c32-a4ab-01c4c3543f76\n",
      "Text: PAGE 1Founder, DeepLearning.AICollected Insights from Andrew Ng\n",
      "How to  Build Your Career in AIA Simple Guide\n"
     ]
    }
   ],
   "source": [
    "print(type(documents_en), \"\\n\")\n",
    "print(len(documents_en), \"\\n\")\n",
    "print(type(documents_en[0]))\n",
    "print(documents_en[0])"
   ]
  },
  {
   "cell_type": "markdown",
   "id": "f3123d3d",
   "metadata": {},
   "source": [
    "## 一、基础RAG通道"
   ]
  },
  {
   "cell_type": "markdown",
   "id": "47ec3011",
   "metadata": {},
   "source": [
    "这里通过将 documents 中各个文档的文本连接成一个字符串，然后创建了一个 Document 实例，该实例代表了整个文档集合。"
   ]
  },
  {
   "cell_type": "code",
   "execution_count": 36,
   "id": "b4abc806-64f5-46bb-8c9f-6469ecb18d20",
   "metadata": {
    "height": 64,
    "tags": []
   },
   "outputs": [],
   "source": [
    "from llama_index import Document\n",
    "\n",
    "document = Document(text=\"\\n\\n\".join([doc.text for doc in documents]))"
   ]
  },
  {
   "cell_type": "code",
   "execution_count": 5,
   "id": "ca7e6dce",
   "metadata": {},
   "outputs": [],
   "source": [
    "# 将中文标点符号替换成英文标点符号，方便后续处理\n",
    "# 如果是英文文档，可以跳过这一步\n",
    "# 不处理的话，会导致无法正确切分中文句子，会影响后续sentence_window的大小，导致输入长度大于gpt-3.5-turbo的最大限制\n",
    "document.text=document.text.replace('。','. ')\n",
    "document.text=document.text.replace('！','! ')\n",
    "document.text=document.text.replace('？','? ')"
   ]
  },
  {
   "cell_type": "markdown",
   "id": "025d24ea",
   "metadata": {},
   "source": [
    "llm-使用 OpenAI 类创建了一个 GPT-3.5-turbo 模型的实例，并设置了温度参数为 0.1。  \n",
    "service_context-使用 ServiceContext 类创建了一个服务上下文实例，包含了前面创建的 GPT-3.5-turbo 模型以及指定的嵌入模型。  \n",
    "index-使用 VectorStoreIndex.from_documents 方法，基于之前创建的文档和服务上下文，创建了一个向量存储索引。"
   ]
  },
  {
   "cell_type": "code",
   "execution_count": 6,
   "id": "afc2baff-5e8b-4733-9899-16f248777b23",
   "metadata": {
    "height": 183,
    "tags": []
   },
   "outputs": [],
   "source": [
    "from llama_index import VectorStoreIndex\n",
    "from llama_index import ServiceContext\n",
    "from llama_index.llms import OpenAI\n",
    "\n",
    "llm = OpenAI(model=\"gpt-3.5-turbo\", temperature=0.1)\n",
    "service_context = ServiceContext.from_defaults(\n",
    "    llm=llm, embed_model=\"local:BAAI/bge-small-zh-v1.5\"\n",
    ")\n",
    "index = VectorStoreIndex.from_documents([document],\n",
    "                                        service_context=service_context)"
   ]
  },
  {
   "cell_type": "code",
   "execution_count": null,
   "id": "22fc9661",
   "metadata": {},
   "outputs": [],
   "source": [
    "llm = OpenAI(model=\"gpt-3.5-turbo\", temperature=0.1)\n",
    "service_context = ServiceContext.from_defaults(\n",
    "    llm=llm, embed_model=\"local:BAAI/bge-small-en-v1.5\"\n",
    ")\n",
    "index = VectorStoreIndex.from_documents([document],\n",
    "                                        service_context=service_context)"
   ]
  },
  {
   "cell_type": "markdown",
   "id": "ea7f3ef7",
   "metadata": {},
   "source": [
    "将之前创建的向量存储索引转换为查询引擎，以便后续进行查询操作。"
   ]
  },
  {
   "cell_type": "code",
   "execution_count": 7,
   "id": "ae52a26c-7d0c-44df-8043-4c7f19f794b9",
   "metadata": {
    "height": 30,
    "tags": []
   },
   "outputs": [],
   "source": [
    "query_engine = index.as_query_engine()"
   ]
  },
  {
   "cell_type": "markdown",
   "id": "df5dd6c4",
   "metadata": {},
   "source": [
    "使用查询引擎执行了一个查询操作，查询给定的问题。"
   ]
  },
  {
   "cell_type": "code",
   "execution_count": 8,
   "id": "6b0d5b6e-cc2e-4648-b28c-5fa25a97d175",
   "metadata": {
    "height": 81,
    "tags": []
   },
   "outputs": [
    {
     "name": "stdout",
     "output_type": "stream",
     "text": [
      "在寻找项目以积累经验时，应该首先确定项目的目标和所需实现的目标，然后建立一个可预测的世界模型，以便选择最有效的行为。在这个过程中，需要定期检查世界模型的状态是否与预测相符，如果不符合，则需要调整计划。最终，通过合作和竞争的方式，利用演化算法和群体智能来达成整体的突现行为目标。\n"
     ]
    }
   ],
   "source": [
    "response = query_engine.query(\n",
    "    \"在寻找项目以积累经验时应采取哪些步骤?\"\n",
    ")\n",
    "print(str(response))"
   ]
  },
  {
   "cell_type": "code",
   "execution_count": 38,
   "id": "59d8926d",
   "metadata": {},
   "outputs": [
    {
     "name": "stdout",
     "output_type": "stream",
     "text": [
      "Establishing clear goals and developing a predictable world model are essential steps for intelligent agents to pursue and achieve their objectives. They must be able to adapt and change their plans based on the alignment of the world model with their predictions. In a multi-agent setting, utilizing evolutionary algorithms and collective intelligence can help in achieving emergent behavioral goals.\n"
     ]
    }
   ],
   "source": [
    "response_en = query_engine.query(\n",
    "    \"What are steps to take when finding projects to build your experience?\"\n",
    ")\n",
    "print(str(response_en))"
   ]
  },
  {
   "cell_type": "markdown",
   "id": "e50a1ac5",
   "metadata": {},
   "source": [
    "## 二、使用Trulens进行评测"
   ]
  },
  {
   "cell_type": "code",
   "execution_count": 9,
   "id": "0ead7dc1-71b2-4001-918f-bf8d610fd3fd",
   "metadata": {
    "height": 132,
    "tags": []
   },
   "outputs": [
    {
     "name": "stdout",
     "output_type": "stream",
     "text": [
      "人工智能中的先验知识是如何被存储的？\n",
      "人工智能的自我更新和自我提升是否可能导致其脱离人类的控制？\n",
      "管理者如何管理AI？\n",
      "强人工智能是什么？\n",
      "人工智能被滥用带来的危害？\n"
     ]
    }
   ],
   "source": [
    "eval_questions = []\n",
    "with open('data/eval_questions.txt', 'r') as file:\n",
    "    for line in file:\n",
    "        # Remove newline character and convert to integer\n",
    "        item = line.strip()\n",
    "        print(item)\n",
    "        eval_questions.append(item)"
   ]
  },
  {
   "cell_type": "code",
   "execution_count": 40,
   "id": "c9c2f4ab",
   "metadata": {},
   "outputs": [
    {
     "name": "stdout",
     "output_type": "stream",
     "text": [
      "What are the keys to building a career in AI?\n",
      "How can teamwork contribute to success in AI?\n",
      "What is the importance of networking in AI?\n",
      "What are some good habits to develop for a successful career?\n",
      "How can altruism be beneficial in building a career?\n",
      "What is imposter syndrome and how does it relate to AI?\n",
      "Who are some accomplished individuals who have experienced imposter syndrome?\n",
      "What is the first step to becoming good at AI?\n",
      "What are some common challenges in AI?\n",
      "Is it normal to find parts of AI challenging?\n"
     ]
    }
   ],
   "source": [
    "eval_questions_en = []\n",
    "with open('data/eval_questions_en.txt', 'r') as file:\n",
    "    for line in file:\n",
    "        # Remove newline character and convert to integer\n",
    "        item = line.strip()\n",
    "        print(item)\n",
    "        eval_questions_en.append(item)"
   ]
  },
  {
   "cell_type": "markdown",
   "id": "d94b611a",
   "metadata": {},
   "source": [
    "加上自定义问题。"
   ]
  },
  {
   "cell_type": "code",
   "execution_count": 10,
   "id": "87a278f8",
   "metadata": {
    "height": 64
   },
   "outputs": [],
   "source": [
    "# You can try your own question:\n",
    "new_question = \"什么是适合我的人工智能工作?\"\n",
    "eval_questions.append(new_question)"
   ]
  },
  {
   "cell_type": "code",
   "execution_count": 11,
   "id": "8d5204e8",
   "metadata": {
    "height": 30
   },
   "outputs": [
    {
     "data": {
      "text/plain": [
       "['人工智能中的先验知识是如何被存储的？',\n",
       " '人工智能的自我更新和自我提升是否可能导致其脱离人类的控制？',\n",
       " '管理者如何管理AI？',\n",
       " '强人工智能是什么？',\n",
       " '人工智能被滥用带来的危害？',\n",
       " '什么是适合我的人工智能工作?']"
      ]
     },
     "execution_count": 11,
     "metadata": {},
     "output_type": "execute_result"
    }
   ],
   "source": [
    "eval_questions"
   ]
  },
  {
   "cell_type": "code",
   "execution_count": 41,
   "id": "13891936",
   "metadata": {},
   "outputs": [
    {
     "data": {
      "text/plain": [
       "['What are the keys to building a career in AI?',\n",
       " 'How can teamwork contribute to success in AI?',\n",
       " 'What is the importance of networking in AI?',\n",
       " 'What are some good habits to develop for a successful career?',\n",
       " 'How can altruism be beneficial in building a career?',\n",
       " 'What is imposter syndrome and how does it relate to AI?',\n",
       " 'Who are some accomplished individuals who have experienced imposter syndrome?',\n",
       " 'What is the first step to becoming good at AI?',\n",
       " 'What are some common challenges in AI?',\n",
       " 'Is it normal to find parts of AI challenging?',\n",
       " 'What is the right AI job for me?']"
      ]
     },
     "execution_count": 41,
     "metadata": {},
     "output_type": "execute_result"
    }
   ],
   "source": [
    "# You can try your own question:\n",
    "new_question_en = \"What is the right AI job for me?\"\n",
    "eval_questions.append(new_question_en)\n",
    "eval_questions_en"
   ]
  },
  {
   "cell_type": "markdown",
   "id": "49afce86",
   "metadata": {},
   "source": [
    "通过调用 reset_database() 方法重置 Trulens 数据库。清空之前的记录和反馈数据。"
   ]
  },
  {
   "cell_type": "code",
   "execution_count": 12,
   "id": "c063c9c7-bf1e-4b24-9a22-d4281c0f954e",
   "metadata": {
    "height": 81,
    "tags": []
   },
   "outputs": [
    {
     "name": "stdout",
     "output_type": "stream",
     "text": [
      "🦑 Tru initialized with db url sqlite:///default.sqlite .\n",
      "🛑 Secret keys may be written to the database. See the `database_redact_keys` option of `Tru` to prevent this.\n"
     ]
    }
   ],
   "source": [
    "from trulens_eval import Tru\n",
    "tru = Tru()\n",
    "\n",
    "tru.reset_database()"
   ]
  },
  {
   "cell_type": "markdown",
   "id": "4363a09b",
   "metadata": {},
   "source": [
    "使用 get_prebuilt_trulens_recorder 函数创建一个 Trulens 记录器 (tru_recorder)，该记录器与给定的查询引擎 (query_engine) 相关联。同时，指定了应用程序的标识为 \"Direct Query Engine\"。"
   ]
  },
  {
   "cell_type": "code",
   "execution_count": 13,
   "id": "4f754bed-d16f-4c8d-a1a1-b36096272570",
   "metadata": {
    "height": 81,
    "tags": []
   },
   "outputs": [],
   "source": [
    "from utils import get_prebuilt_trulens_recorder\n",
    "\n",
    "tru_recorder = get_prebuilt_trulens_recorder(query_engine,\n",
    "                                             app_id=\"Direct Query Engine\")"
   ]
  },
  {
   "cell_type": "markdown",
   "id": "d4695f6c",
   "metadata": {},
   "source": [
    "使用 tru_recorder 记录器开始记录过程，遍历 eval_questions 列表，对每个问题进行查询，并将查询引擎的响应记录下来。"
   ]
  },
  {
   "cell_type": "code",
   "execution_count": 14,
   "id": "4dbdfbcc-aac7-4805-9894-4fc016c66bf6",
   "metadata": {
    "height": 64,
    "tags": []
   },
   "outputs": [],
   "source": [
    "with tru_recorder as recording:\n",
    "    for question in eval_questions:\n",
    "        response = query_engine.query(question)"
   ]
  },
  {
   "cell_type": "markdown",
   "id": "7e70334e",
   "metadata": {},
   "source": [
    "获取 Trulens 记录和反馈数据。用于后续分析和评估。"
   ]
  },
  {
   "cell_type": "code",
   "execution_count": 15,
   "id": "e14f512b-601c-42d0-bfac-bf41d9c577e7",
   "metadata": {
    "height": 30,
    "tags": []
   },
   "outputs": [],
   "source": [
    "records, feedback = tru.get_records_and_feedback(app_ids=[])"
   ]
  },
  {
   "cell_type": "code",
   "execution_count": 16,
   "id": "2da4a602-0d56-4bf8-9fa6-03ef0b7e254b",
   "metadata": {
    "height": 30,
    "tags": []
   },
   "outputs": [
    {
     "data": {
      "text/html": [
       "<div>\n",
       "<style scoped>\n",
       "    .dataframe tbody tr th:only-of-type {\n",
       "        vertical-align: middle;\n",
       "    }\n",
       "\n",
       "    .dataframe tbody tr th {\n",
       "        vertical-align: top;\n",
       "    }\n",
       "\n",
       "    .dataframe thead th {\n",
       "        text-align: right;\n",
       "    }\n",
       "</style>\n",
       "<table border=\"1\" class=\"dataframe\">\n",
       "  <thead>\n",
       "    <tr style=\"text-align: right;\">\n",
       "      <th></th>\n",
       "      <th>app_id</th>\n",
       "      <th>app_json</th>\n",
       "      <th>type</th>\n",
       "      <th>record_id</th>\n",
       "      <th>input</th>\n",
       "      <th>output</th>\n",
       "      <th>tags</th>\n",
       "      <th>record_json</th>\n",
       "      <th>cost_json</th>\n",
       "      <th>perf_json</th>\n",
       "      <th>ts</th>\n",
       "      <th>Answer Relevance</th>\n",
       "      <th>Context Relevance</th>\n",
       "      <th>Groundedness</th>\n",
       "      <th>Answer Relevance_calls</th>\n",
       "      <th>Context Relevance_calls</th>\n",
       "      <th>Groundedness_calls</th>\n",
       "      <th>latency</th>\n",
       "      <th>total_tokens</th>\n",
       "      <th>total_cost</th>\n",
       "    </tr>\n",
       "  </thead>\n",
       "  <tbody>\n",
       "    <tr>\n",
       "      <th>0</th>\n",
       "      <td>Direct Query Engine</td>\n",
       "      <td>{\"tru_class_info\": {\"name\": \"TruLlama\", \"modul...</td>\n",
       "      <td>RetrieverQueryEngine(llama_index.query_engine....</td>\n",
       "      <td>record_hash_962f7b2603939b57d5a7c8f5fb03f4da</td>\n",
       "      <td>\"\\u4eba\\u5de5\\u667a\\u80fd\\u4e2d\\u7684\\u5148\\u9...</td>\n",
       "      <td>\"\\u5148\\u9a8c\\u77e5\\u8bc6\\u53ef\\u4ee5\\u88ab\\u5...</td>\n",
       "      <td>-</td>\n",
       "      <td>{\"record_id\": \"record_hash_962f7b2603939b57d5a...</td>\n",
       "      <td>{\"n_requests\": 0, \"n_successful_requests\": 0, ...</td>\n",
       "      <td>{\"start_time\": \"2024-02-29T21:39:41.969744\", \"...</td>\n",
       "      <td>2024-02-29T21:39:45.585026</td>\n",
       "      <td>0.9</td>\n",
       "      <td>0.6</td>\n",
       "      <td>1.0</td>\n",
       "      <td>[{'args': {'prompt': '人工智能中的先验知识是如何被存储的？', 're...</td>\n",
       "      <td>[{'args': {'prompt': '人工智能中的先验知识是如何被存储的？', 're...</td>\n",
       "      <td>[{'args': {'source': '[10]\n",
       "早期的⼈⼯智能研究⼈员直接模仿⼈类进⾏...</td>\n",
       "      <td>3</td>\n",
       "      <td>0</td>\n",
       "      <td>0.0</td>\n",
       "    </tr>\n",
       "    <tr>\n",
       "      <th>1</th>\n",
       "      <td>Direct Query Engine</td>\n",
       "      <td>{\"tru_class_info\": {\"name\": \"TruLlama\", \"modul...</td>\n",
       "      <td>RetrieverQueryEngine(llama_index.query_engine....</td>\n",
       "      <td>record_hash_a49a8b79d123b9fbf62d6301336b9f89</td>\n",
       "      <td>\"\\u4eba\\u5de5\\u667a\\u80fd\\u7684\\u81ea\\u6211\\u6...</td>\n",
       "      <td>\"\\u4eba\\u5de5\\u667a\\u80fd\\u7684\\u81ea\\u6211\\u6...</td>\n",
       "      <td>-</td>\n",
       "      <td>{\"record_id\": \"record_hash_a49a8b79d123b9fbf62...</td>\n",
       "      <td>{\"n_requests\": 0, \"n_successful_requests\": 0, ...</td>\n",
       "      <td>{\"start_time\": \"2024-02-29T21:39:45.793005\", \"...</td>\n",
       "      <td>2024-02-29T21:39:48.647105</td>\n",
       "      <td>1.0</td>\n",
       "      <td>0.8</td>\n",
       "      <td>NaN</td>\n",
       "      <td>[{'args': {'prompt': '人工智能的自我更新和自我提升是否可能导致其脱离人...</td>\n",
       "      <td>[{'args': {'prompt': '人工智能的自我更新和自我提升是否可能导致其脱离人...</td>\n",
       "      <td>NaN</td>\n",
       "      <td>2</td>\n",
       "      <td>0</td>\n",
       "      <td>0.0</td>\n",
       "    </tr>\n",
       "    <tr>\n",
       "      <th>2</th>\n",
       "      <td>Direct Query Engine</td>\n",
       "      <td>{\"tru_class_info\": {\"name\": \"TruLlama\", \"modul...</td>\n",
       "      <td>RetrieverQueryEngine(llama_index.query_engine....</td>\n",
       "      <td>record_hash_865c5f006d9e297734bd8eae9ab6ed55</td>\n",
       "      <td>\"\\u7ba1\\u7406\\u8005\\u5982\\u4f55\\u7ba1\\u7406AI\\...</td>\n",
       "      <td>\"Management of AI involves treating it as a te...</td>\n",
       "      <td>-</td>\n",
       "      <td>{\"record_id\": \"record_hash_865c5f006d9e297734b...</td>\n",
       "      <td>{\"n_requests\": 0, \"n_successful_requests\": 0, ...</td>\n",
       "      <td>{\"start_time\": \"2024-02-29T21:39:48.812111\", \"...</td>\n",
       "      <td>2024-02-29T21:39:51.689651</td>\n",
       "      <td>0.8</td>\n",
       "      <td>0.6</td>\n",
       "      <td>NaN</td>\n",
       "      <td>[{'args': {'prompt': '管理者如何管理AI？', 'response':...</td>\n",
       "      <td>[{'args': {'prompt': '管理者如何管理AI？', 'response':...</td>\n",
       "      <td>NaN</td>\n",
       "      <td>2</td>\n",
       "      <td>0</td>\n",
       "      <td>0.0</td>\n",
       "    </tr>\n",
       "    <tr>\n",
       "      <th>3</th>\n",
       "      <td>Direct Query Engine</td>\n",
       "      <td>{\"tru_class_info\": {\"name\": \"TruLlama\", \"modul...</td>\n",
       "      <td>RetrieverQueryEngine(llama_index.query_engine....</td>\n",
       "      <td>record_hash_21a2225e1b8ec41f41340b90e7c121a3</td>\n",
       "      <td>\"\\u5f3a\\u4eba\\u5de5\\u667a\\u80fd\\u662f\\u4ec0\\u4...</td>\n",
       "      <td>\"\\u5f3a\\u4eba\\u5de5\\u667a\\u80fd\\u662f\\u4e00\\u7...</td>\n",
       "      <td>-</td>\n",
       "      <td>{\"record_id\": \"record_hash_21a2225e1b8ec41f413...</td>\n",
       "      <td>{\"n_requests\": 0, \"n_successful_requests\": 0, ...</td>\n",
       "      <td>{\"start_time\": \"2024-02-29T21:39:51.856594\", \"...</td>\n",
       "      <td>2024-02-29T21:39:55.313402</td>\n",
       "      <td>1.0</td>\n",
       "      <td>NaN</td>\n",
       "      <td>NaN</td>\n",
       "      <td>[{'args': {'prompt': '强人工智能是什么？', 'response': ...</td>\n",
       "      <td>NaN</td>\n",
       "      <td>NaN</td>\n",
       "      <td>3</td>\n",
       "      <td>0</td>\n",
       "      <td>0.0</td>\n",
       "    </tr>\n",
       "    <tr>\n",
       "      <th>4</th>\n",
       "      <td>Direct Query Engine</td>\n",
       "      <td>{\"tru_class_info\": {\"name\": \"TruLlama\", \"modul...</td>\n",
       "      <td>RetrieverQueryEngine(llama_index.query_engine....</td>\n",
       "      <td>record_hash_6c3b3bdfd78575e3d57dcf3ca470b4ca</td>\n",
       "      <td>\"\\u4eba\\u5de5\\u667a\\u80fd\\u88ab\\u6ee5\\u7528\\u5...</td>\n",
       "      <td>\"The misuse of artificial intelligence technol...</td>\n",
       "      <td>-</td>\n",
       "      <td>{\"record_id\": \"record_hash_6c3b3bdfd78575e3d57...</td>\n",
       "      <td>{\"n_requests\": 0, \"n_successful_requests\": 0, ...</td>\n",
       "      <td>{\"start_time\": \"2024-02-29T21:39:55.470704\", \"...</td>\n",
       "      <td>2024-02-29T21:39:59.171553</td>\n",
       "      <td>0.9</td>\n",
       "      <td>NaN</td>\n",
       "      <td>NaN</td>\n",
       "      <td>[{'args': {'prompt': '人工智能被滥用带来的危害？', 'respons...</td>\n",
       "      <td>NaN</td>\n",
       "      <td>NaN</td>\n",
       "      <td>3</td>\n",
       "      <td>0</td>\n",
       "      <td>0.0</td>\n",
       "    </tr>\n",
       "  </tbody>\n",
       "</table>\n",
       "</div>"
      ],
      "text/plain": [
       "                app_id                                           app_json  \\\n",
       "0  Direct Query Engine  {\"tru_class_info\": {\"name\": \"TruLlama\", \"modul...   \n",
       "1  Direct Query Engine  {\"tru_class_info\": {\"name\": \"TruLlama\", \"modul...   \n",
       "2  Direct Query Engine  {\"tru_class_info\": {\"name\": \"TruLlama\", \"modul...   \n",
       "3  Direct Query Engine  {\"tru_class_info\": {\"name\": \"TruLlama\", \"modul...   \n",
       "4  Direct Query Engine  {\"tru_class_info\": {\"name\": \"TruLlama\", \"modul...   \n",
       "\n",
       "                                                type  \\\n",
       "0  RetrieverQueryEngine(llama_index.query_engine....   \n",
       "1  RetrieverQueryEngine(llama_index.query_engine....   \n",
       "2  RetrieverQueryEngine(llama_index.query_engine....   \n",
       "3  RetrieverQueryEngine(llama_index.query_engine....   \n",
       "4  RetrieverQueryEngine(llama_index.query_engine....   \n",
       "\n",
       "                                      record_id  \\\n",
       "0  record_hash_962f7b2603939b57d5a7c8f5fb03f4da   \n",
       "1  record_hash_a49a8b79d123b9fbf62d6301336b9f89   \n",
       "2  record_hash_865c5f006d9e297734bd8eae9ab6ed55   \n",
       "3  record_hash_21a2225e1b8ec41f41340b90e7c121a3   \n",
       "4  record_hash_6c3b3bdfd78575e3d57dcf3ca470b4ca   \n",
       "\n",
       "                                               input  \\\n",
       "0  \"\\u4eba\\u5de5\\u667a\\u80fd\\u4e2d\\u7684\\u5148\\u9...   \n",
       "1  \"\\u4eba\\u5de5\\u667a\\u80fd\\u7684\\u81ea\\u6211\\u6...   \n",
       "2  \"\\u7ba1\\u7406\\u8005\\u5982\\u4f55\\u7ba1\\u7406AI\\...   \n",
       "3  \"\\u5f3a\\u4eba\\u5de5\\u667a\\u80fd\\u662f\\u4ec0\\u4...   \n",
       "4  \"\\u4eba\\u5de5\\u667a\\u80fd\\u88ab\\u6ee5\\u7528\\u5...   \n",
       "\n",
       "                                              output tags  \\\n",
       "0  \"\\u5148\\u9a8c\\u77e5\\u8bc6\\u53ef\\u4ee5\\u88ab\\u5...    -   \n",
       "1  \"\\u4eba\\u5de5\\u667a\\u80fd\\u7684\\u81ea\\u6211\\u6...    -   \n",
       "2  \"Management of AI involves treating it as a te...    -   \n",
       "3  \"\\u5f3a\\u4eba\\u5de5\\u667a\\u80fd\\u662f\\u4e00\\u7...    -   \n",
       "4  \"The misuse of artificial intelligence technol...    -   \n",
       "\n",
       "                                         record_json  \\\n",
       "0  {\"record_id\": \"record_hash_962f7b2603939b57d5a...   \n",
       "1  {\"record_id\": \"record_hash_a49a8b79d123b9fbf62...   \n",
       "2  {\"record_id\": \"record_hash_865c5f006d9e297734b...   \n",
       "3  {\"record_id\": \"record_hash_21a2225e1b8ec41f413...   \n",
       "4  {\"record_id\": \"record_hash_6c3b3bdfd78575e3d57...   \n",
       "\n",
       "                                           cost_json  \\\n",
       "0  {\"n_requests\": 0, \"n_successful_requests\": 0, ...   \n",
       "1  {\"n_requests\": 0, \"n_successful_requests\": 0, ...   \n",
       "2  {\"n_requests\": 0, \"n_successful_requests\": 0, ...   \n",
       "3  {\"n_requests\": 0, \"n_successful_requests\": 0, ...   \n",
       "4  {\"n_requests\": 0, \"n_successful_requests\": 0, ...   \n",
       "\n",
       "                                           perf_json  \\\n",
       "0  {\"start_time\": \"2024-02-29T21:39:41.969744\", \"...   \n",
       "1  {\"start_time\": \"2024-02-29T21:39:45.793005\", \"...   \n",
       "2  {\"start_time\": \"2024-02-29T21:39:48.812111\", \"...   \n",
       "3  {\"start_time\": \"2024-02-29T21:39:51.856594\", \"...   \n",
       "4  {\"start_time\": \"2024-02-29T21:39:55.470704\", \"...   \n",
       "\n",
       "                           ts  Answer Relevance  Context Relevance  \\\n",
       "0  2024-02-29T21:39:45.585026               0.9                0.6   \n",
       "1  2024-02-29T21:39:48.647105               1.0                0.8   \n",
       "2  2024-02-29T21:39:51.689651               0.8                0.6   \n",
       "3  2024-02-29T21:39:55.313402               1.0                NaN   \n",
       "4  2024-02-29T21:39:59.171553               0.9                NaN   \n",
       "\n",
       "   Groundedness                             Answer Relevance_calls  \\\n",
       "0           1.0  [{'args': {'prompt': '人工智能中的先验知识是如何被存储的？', 're...   \n",
       "1           NaN  [{'args': {'prompt': '人工智能的自我更新和自我提升是否可能导致其脱离人...   \n",
       "2           NaN  [{'args': {'prompt': '管理者如何管理AI？', 'response':...   \n",
       "3           NaN  [{'args': {'prompt': '强人工智能是什么？', 'response': ...   \n",
       "4           NaN  [{'args': {'prompt': '人工智能被滥用带来的危害？', 'respons...   \n",
       "\n",
       "                             Context Relevance_calls  \\\n",
       "0  [{'args': {'prompt': '人工智能中的先验知识是如何被存储的？', 're...   \n",
       "1  [{'args': {'prompt': '人工智能的自我更新和自我提升是否可能导致其脱离人...   \n",
       "2  [{'args': {'prompt': '管理者如何管理AI？', 'response':...   \n",
       "3                                                NaN   \n",
       "4                                                NaN   \n",
       "\n",
       "                                  Groundedness_calls  latency  total_tokens  \\\n",
       "0  [{'args': {'source': '[10]\n",
       "早期的⼈⼯智能研究⼈员直接模仿⼈类进⾏...        3             0   \n",
       "1                                                NaN        2             0   \n",
       "2                                                NaN        2             0   \n",
       "3                                                NaN        3             0   \n",
       "4                                                NaN        3             0   \n",
       "\n",
       "   total_cost  \n",
       "0         0.0  \n",
       "1         0.0  \n",
       "2         0.0  \n",
       "3         0.0  \n",
       "4         0.0  "
      ]
     },
     "execution_count": 16,
     "metadata": {},
     "output_type": "execute_result"
    }
   ],
   "source": [
    "records.head()"
   ]
  },
  {
   "cell_type": "markdown",
   "id": "627783dc",
   "metadata": {},
   "source": [
    "运行 Trulens 仪表板以可视化评估结果。"
   ]
  },
  {
   "cell_type": "code",
   "execution_count": 17,
   "id": "64310897-179b-4081-aab8-f08a3392a078",
   "metadata": {
    "height": 47,
    "tags": []
   },
   "outputs": [
    {
     "name": "stdout",
     "output_type": "stream",
     "text": [
      "Starting dashboard ...\n",
      "Config file already exists. Skipping writing process.\n",
      "Credentials file already exists. Skipping writing process.\n"
     ]
    },
    {
     "data": {
      "application/vnd.jupyter.widget-view+json": {
       "model_id": "a213d3d786784fcbba4048219015d20b",
       "version_major": 2,
       "version_minor": 0
      },
      "text/plain": [
       "Accordion(children=(VBox(children=(VBox(children=(Label(value='STDOUT'), Output())), VBox(children=(Label(valu…"
      ]
     },
     "metadata": {},
     "output_type": "display_data"
    },
    {
     "name": "stdout",
     "output_type": "stream",
     "text": [
      "Dashboard started at http://198.18.0.1:8501 .\n"
     ]
    },
    {
     "data": {
      "text/plain": [
       "<Popen: returncode: None args: ['streamlit', 'run', '--server.headless=True'...>"
      ]
     },
     "execution_count": 17,
     "metadata": {},
     "output_type": "execute_result"
    }
   ],
   "source": [
    "# launches on http://localhost:8501/\n",
    "tru.run_dashboard()"
   ]
  },
  {
   "cell_type": "markdown",
   "id": "a4eedcef",
   "metadata": {},
   "source": [
    "## 三、高级的RAG通道"
   ]
  },
  {
   "cell_type": "markdown",
   "id": "9a17ea2b",
   "metadata": {},
   "source": [
    "### 3.1 滑窗句子检索"
   ]
  },
  {
   "cell_type": "markdown",
   "id": "665314f2",
   "metadata": {},
   "source": [
    "创建 OpenAI 的 GPT-3.5-turbo 语言模型实例："
   ]
  },
  {
   "cell_type": "code",
   "execution_count": 18,
   "id": "dae4a668-3699-4750-82f7-e53ae1bca3a7",
   "metadata": {
    "height": 64,
    "tags": []
   },
   "outputs": [],
   "source": [
    "from llama_index.llms import OpenAI\n",
    "\n",
    "llm = OpenAI(model=\"gpt-3.5-turbo\", temperature=0.1)"
   ]
  },
  {
   "cell_type": "markdown",
   "id": "b7838c82",
   "metadata": {},
   "source": [
    "使用辅助函数 build_sentence_window_index 创建基于窗口的句子索引："
   ]
  },
  {
   "cell_type": "code",
   "execution_count": 42,
   "id": "78f7678f-358d-448d-b153-11ac8e96a7fc",
   "metadata": {
    "height": 149,
    "tags": []
   },
   "outputs": [],
   "source": [
    "from utils import build_sentence_window_index\n",
    "\n",
    "sentence_index = build_sentence_window_index(\n",
    "    document,\n",
    "    llm,\n",
    "    embed_model=\"local:BAAI/bge-small-zh-v1.5\",\n",
    "    save_dir=\"sentence_index\"\n",
    ")"
   ]
  },
  {
   "cell_type": "markdown",
   "id": "f685d30c",
   "metadata": {},
   "source": [
    "使用辅助函数 get_sentence_window_query_engine 获取基于句子窗口的查询引擎："
   ]
  },
  {
   "cell_type": "code",
   "execution_count": 26,
   "id": "72f904c3-9845-4df5-9d2e-e5115160f987",
   "metadata": {
    "height": 64,
    "tags": []
   },
   "outputs": [],
   "source": [
    "from utils import get_sentence_window_query_engine\n",
    "\n",
    "sentence_window_engine = get_sentence_window_query_engine(sentence_index)"
   ]
  },
  {
   "cell_type": "markdown",
   "id": "37015871",
   "metadata": {},
   "source": [
    "对一个特定的问题进行查询并打印结果："
   ]
  },
  {
   "cell_type": "code",
   "execution_count": 27,
   "id": "f59e2314-7cac-42f4-a552-9a8e4db641eb",
   "metadata": {
    "height": 81,
    "tags": []
   },
   "outputs": [
    {
     "data": {
      "text/plain": [
       "'通过模仿人类思考模式，使用概率和经济学概念处理不确定或不完整的信息，寻找更有效的算法，并强调感知运动的重要性，可以开始一个人工智能个人项目。'"
      ]
     },
     "execution_count": 27,
     "metadata": {},
     "output_type": "execute_result"
    }
   ],
   "source": [
    "window_response = sentence_window_engine.query(\n",
    "    \"如何开始人工智能个人项目?\"\n",
    ")\n",
    "str(window_response)"
   ]
  },
  {
   "cell_type": "code",
   "execution_count": 43,
   "id": "55235a2a",
   "metadata": {},
   "outputs": [
    {
     "data": {
      "text/plain": [
       "'You can begin a personal project in AI by first selecting a specific subfield that interests you, such as vision, natural language processing, decision theory, genetic algorithms, or robotics. Once you have chosen a subfield, you can start by studying relevant textbooks and resources to build a foundational understanding. From there, you can experiment with implementing algorithms, working on small projects, and gradually increasing the complexity of your AI projects as you gain more experience and knowledge in the field.'"
      ]
     },
     "execution_count": 43,
     "metadata": {},
     "output_type": "execute_result"
    }
   ],
   "source": [
    "from utils import build_sentence_window_index\n",
    "\n",
    "sentence_index_en = build_sentence_window_index(\n",
    "    document,\n",
    "    llm,\n",
    "    embed_model=\"local:BAAI/bge-small-en-v1.5\",\n",
    "    save_dir=\"sentence_index\"\n",
    ")\n",
    "\n",
    "window_response_en = sentence_window_engine.query(\n",
    "    \"how do I get started on a personal project in AI?\"\n",
    ")\n",
    "str(window_response_en)"
   ]
  },
  {
   "cell_type": "markdown",
   "id": "eb980a71",
   "metadata": {},
   "source": [
    "重置 Trulens 数据库，  \n",
    "使用 Trulens 记录器对基于窗口的句子索引进行评估，记录查询结果："
   ]
  },
  {
   "cell_type": "code",
   "execution_count": 45,
   "id": "b5c10917-8846-4e73-838d-6232c906a7db",
   "metadata": {
    "height": 115,
    "tags": []
   },
   "outputs": [],
   "source": [
    "tru.reset_database()\n",
    "\n",
    "tru_recorder_sentence_window = get_prebuilt_trulens_recorder(\n",
    "    sentence_window_engine,\n",
    "    app_id = \"Sentence Window Query Engine\"\n",
    ")"
   ]
  },
  {
   "cell_type": "code",
   "execution_count": 29,
   "id": "11710e67-aba8-479e-8585-c4c611e2c1d2",
   "metadata": {
    "height": 98,
    "tags": []
   },
   "outputs": [
    {
     "name": "stdout",
     "output_type": "stream",
     "text": [
      "人工智能中的先验知识是如何被存储的？\n",
      "人工智能中的先验知识是通过某种方式告知机器的知识，可以包括描述目标、特征、种类及对象之间的关系，描述事件、时间、状态、原因和结果等内容。\n",
      "人工智能的自我更新和自我提升是否可能导致其脱离人类的控制？\n",
      "The self-updating and self-improving capabilities of artificial intelligence could potentially lead to it surpassing human control.\n",
      "管理者如何管理AI？\n",
      "Management should consider adjusting their work functions by relinquishing administrative tasks, focusing on enhancing their comprehensive judgment and creativity in the field of analysis and prediction, treating AI as a colleague to form a collaborative team, and acknowledging that AI technologies also have limitations and bottlenecks.\n",
      "强人工智能是什么？\n",
      "强人工智能是一种观点，认为计算机本身具有思维，而不仅仅是用来模拟人类思维的工具。\n",
      "人工智能被滥用带来的危害？\n",
      "The misuse of artificial intelligence could potentially lead to violations of copyright laws and other legal regulations. There have been cases where artificial intelligence technology has been used to remove mosaic from explicit videos or alter the appearance of individuals in videos. Additionally, experts have warned about the potential dangers of artificial intelligence being used to manipulate financial markets, scientists, human leaders, and even develop weapons that may be beyond human comprehension and control. Furthermore, the widespread adoption of artificial intelligence in various industries could result in the displacement of numerous jobs, impacting millions of individuals. In essence, the misuse of artificial intelligence poses risks ranging from legal violations to societal destabilization.\n",
      "什么是适合我的人工智能工作?\n",
      "适合您的人工智能工作是那些需要您具备观察周围环境、作出相应行动以达成目标的能力，同时能够正确解释外部数据、学习并利用知识实现特定目标和任务的工作。这样的工作可能涉及模仿人类思维相关的认知功能，包括学习、解决问题以及从过去经验中学习、做出合理决策并快速回应的能力。\n"
     ]
    }
   ],
   "source": [
    "for question in eval_questions:\n",
    "    with tru_recorder_sentence_window as recording:\n",
    "        response = sentence_window_engine.query(question)\n",
    "        print(question)\n",
    "        print(str(response))"
   ]
  },
  {
   "cell_type": "code",
   "execution_count": 46,
   "id": "70471e64",
   "metadata": {},
   "outputs": [
    {
     "name": "stdout",
     "output_type": "stream",
     "text": [
      "What are the keys to building a career in AI?\n",
      "Studying the characteristics of intelligence from relevant textbooks, understanding the concept of strong artificial intelligence commonly found in introductory materials, and gaining expertise in problem solving, puzzle solving, game playing, and deduction are key elements to building a career in AI.\n",
      "How can teamwork contribute to success in AI?\n",
      "Teamwork can contribute to success in AI by treating AI as a colleague and forming a collaborative team. This approach fosters synergy and cooperation, allowing for a more effective utilization of AI technologies in various tasks and projects.\n",
      "What is the importance of networking in AI?\n",
      "Networking in AI is crucial as it allows for the exchange of information and data between different AI systems, enabling them to learn from each other and improve their performance. This interconnectedness enhances the overall capabilities of AI by facilitating collaboration, sharing of knowledge, and collective problem-solving. Additionally, networking enables AI systems to access and process vast amounts of data from various sources, leading to more informed decision-making and advanced functionalities.\n",
      "What are some good habits to develop for a successful career?\n",
      "Some good habits to develop for a successful career include abandoning administrative tasks, focusing on enhancing comprehensive judgment skills, and strengthening skills in analysis and prediction.\n",
      "How can altruism be beneficial in building a career?\n",
      "Altruism can be beneficial in building a career by fostering positive relationships, creating a supportive network, and enhancing one's reputation within a professional community. It can also lead to opportunities for collaboration, mentorship, and personal growth, ultimately contributing to long-term success and fulfillment in one's chosen field.\n",
      "What is imposter syndrome and how does it relate to AI?\n",
      "Imposter syndrome is a psychological pattern where individuals doubt their accomplishments and have a persistent fear of being exposed as a fraud, despite evidence of their competence. In the context of AI, imposter syndrome can manifest among researchers and professionals in the field who may feel inadequate or fraudulent due to the complexity and rapid advancements in artificial intelligence. This feeling can be exacerbated by the high technicality and specialization within different branches of AI research, leading individuals to question their abilities and knowledge in such a vast and rapidly evolving field.\n",
      "Who are some accomplished individuals who have experienced imposter syndrome?\n",
      "Stephen Hawking and Elon Musk are two accomplished individuals who have experienced imposter syndrome.\n",
      "What is the first step to becoming good at AI?\n",
      "Studying and understanding the complex mathematical tools developed in artificial intelligence research to solve specific branch problems is the first step to becoming good at AI.\n",
      "What are some common challenges in AI?\n",
      "Some common challenges in AI include the fragmentation of AI into subfields that may not communicate effectively with each other, difficulties in areas such as vision, natural language processing, decision theory, genetic algorithms, and robotics, and the need for AI systems to distinguish between enemies and civilians.\n",
      "Is it normal to find parts of AI challenging?\n",
      "It is common for individuals to find certain aspects of Artificial Intelligence challenging.\n",
      "What is the right AI job for me?\n",
      "A suitable AI job for you would involve working in the field of data science or artificial intelligence. These areas are in high demand and offer various opportunities for individuals with the right skills and expertise. Consider roles such as data scientist, AI specialist, machine learning engineer, or AI researcher, depending on your interests and qualifications.\n"
     ]
    },
    {
     "name": "stderr",
     "output_type": "stream",
     "text": [
      "Validation error: 1 validation error for Rating\n",
      "rating\n",
      "  Value error, Rating must be between 0 and 10 [type=value_error, input_value=33, input_type=int]\n",
      "    For further information visit https://errors.pydantic.dev/2.6/v/value_error\n"
     ]
    }
   ],
   "source": [
    "for question in eval_questions_en:\n",
    "    with tru_recorder_sentence_window as recording:\n",
    "        response = sentence_window_engine.query(question)\n",
    "        print(question)\n",
    "        print(str(response))"
   ]
  },
  {
   "cell_type": "markdown",
   "id": "d91b12ed",
   "metadata": {},
   "source": [
    "获取性能评估的排行榜："
   ]
  },
  {
   "cell_type": "code",
   "execution_count": 49,
   "id": "869d1e55-729b-45f2-a0f9-773c49d4616f",
   "metadata": {
    "height": 30,
    "tags": []
   },
   "outputs": [
    {
     "data": {
      "text/html": [
       "<div>\n",
       "<style scoped>\n",
       "    .dataframe tbody tr th:only-of-type {\n",
       "        vertical-align: middle;\n",
       "    }\n",
       "\n",
       "    .dataframe tbody tr th {\n",
       "        vertical-align: top;\n",
       "    }\n",
       "\n",
       "    .dataframe thead th {\n",
       "        text-align: right;\n",
       "    }\n",
       "</style>\n",
       "<table border=\"1\" class=\"dataframe\">\n",
       "  <thead>\n",
       "    <tr style=\"text-align: right;\">\n",
       "      <th></th>\n",
       "      <th>Context Relevance</th>\n",
       "      <th>Answer Relevance</th>\n",
       "      <th>Groundedness</th>\n",
       "      <th>latency</th>\n",
       "      <th>total_cost</th>\n",
       "    </tr>\n",
       "    <tr>\n",
       "      <th>app_id</th>\n",
       "      <th></th>\n",
       "      <th></th>\n",
       "      <th></th>\n",
       "      <th></th>\n",
       "      <th></th>\n",
       "    </tr>\n",
       "  </thead>\n",
       "  <tbody>\n",
       "    <tr>\n",
       "      <th>Sentence Window Query Engine</th>\n",
       "      <td>0.018182</td>\n",
       "      <td>0.909091</td>\n",
       "      <td>0.288636</td>\n",
       "      <td>9.181818</td>\n",
       "      <td>0.0</td>\n",
       "    </tr>\n",
       "  </tbody>\n",
       "</table>\n",
       "</div>"
      ],
      "text/plain": [
       "                              Context Relevance  Answer Relevance  \\\n",
       "app_id                                                              \n",
       "Sentence Window Query Engine           0.018182          0.909091   \n",
       "\n",
       "                              Groundedness   latency  total_cost  \n",
       "app_id                                                            \n",
       "Sentence Window Query Engine      0.288636  9.181818         0.0  "
      ]
     },
     "execution_count": 49,
     "metadata": {},
     "output_type": "execute_result"
    }
   ],
   "source": [
    "tru.get_leaderboard(app_ids=[])"
   ]
  },
  {
   "cell_type": "code",
   "execution_count": 50,
   "id": "0b92d0f2-2e80-48d5-92af-b3655eb03ea2",
   "metadata": {
    "height": 47,
    "tags": []
   },
   "outputs": [
    {
     "name": "stdout",
     "output_type": "stream",
     "text": [
      "Starting dashboard ...\n",
      "Config file already exists. Skipping writing process.\n",
      "Credentials file already exists. Skipping writing process.\n",
      "Dashboard already running at path:   Network URL: http://198.18.0.1:8501\n",
      "\n"
     ]
    },
    {
     "data": {
      "text/plain": [
       "<Popen: returncode: None args: ['streamlit', 'run', '--server.headless=True'...>"
      ]
     },
     "execution_count": 50,
     "metadata": {},
     "output_type": "execute_result"
    }
   ],
   "source": [
    "# launches on http://localhost:8501/\n",
    "tru.run_dashboard()"
   ]
  },
  {
   "cell_type": "markdown",
   "id": "a92e2c55",
   "metadata": {},
   "source": [
    "### 3.2 自动合并检索"
   ]
  },
  {
   "cell_type": "code",
   "execution_count": 51,
   "id": "558c639b-31eb-4c34-b6c4-fe6ae5717733",
   "metadata": {
    "height": 149,
    "tags": []
   },
   "outputs": [],
   "source": [
    "from utils import build_automerging_index\n",
    "\n",
    "automerging_index = build_automerging_index(\n",
    "    documents,\n",
    "    llm,\n",
    "    embed_model=\"local:BAAI/bge-small-zh-v1.5\",  # \"local:BAAI/bge-small-en-v1.5\" for english\n",
    "    save_dir=\"merging_index\"\n",
    ")"
   ]
  },
  {
   "cell_type": "code",
   "execution_count": 52,
   "id": "b32265f2-0247-42df-9abe-97d52f69edcf",
   "metadata": {
    "height": 98,
    "tags": []
   },
   "outputs": [],
   "source": [
    "from utils import get_automerging_query_engine\n",
    "\n",
    "automerging_query_engine = get_automerging_query_engine(\n",
    "    automerging_index,\n",
    ")"
   ]
  },
  {
   "cell_type": "code",
   "execution_count": 53,
   "id": "918ed568-220e-4c7c-aa60-cfa58ef1fcbd",
   "metadata": {
    "height": 81,
    "tags": []
   },
   "outputs": [
    {
     "name": "stdout",
     "output_type": "stream",
     "text": [
      "Begin a personal project in artificial intelligence by first selecting a specific problem or application you are interested in exploring. Then, familiarize yourself with the various tools and technologies available for AI development. Next, design a plan outlining the steps you will take to implement your project, considering factors such as data collection, model building, and evaluation. Finally, start working on your project by coding and experimenting with different AI techniques to achieve your desired outcome.\n"
     ]
    }
   ],
   "source": [
    "auto_merging_response = automerging_query_engine.query(\n",
    "    \"如何开始人工智能个人项目?\"\n",
    ")\n",
    "print(str(auto_merging_response))"
   ]
  },
  {
   "cell_type": "code",
   "execution_count": null,
   "id": "db4f18a9-7b8a-4ae2-ab11-3a6a941a5afc",
   "metadata": {
    "height": 81,
    "tags": []
   },
   "outputs": [],
   "source": [
    "tru.reset_database()\n",
    "\n",
    "tru_recorder_automerging = get_prebuilt_trulens_recorder(automerging_query_engine,\n",
    "                                                         app_id=\"Automerging Query Engine\")"
   ]
  },
  {
   "cell_type": "code",
   "execution_count": null,
   "id": "99cc2cfe-7096-4fa0-aa72-094bebac35a3",
   "metadata": {
    "height": 98,
    "tags": []
   },
   "outputs": [
    {
     "name": "stdout",
     "output_type": "stream",
     "text": [
      "> Merging 4 nodes into parent node.\n",
      "> Parent node id: 1f9d8836-82de-4011-bc12-9c836bf0cc4b.\n",
      "> Parent node text: [16]\n",
      "⼈类解决问题的模式通常是⽤最快捷、直观的判断，⽽不是有意识的、⼀步⼀步的推导，早期⼈⼯智能研究通常使⽤逐步推导的⽅式。[17]⼈⼯智能研究已经\n",
      "于这种“次表征性的”解决问题⽅法获取进展...\n",
      "\n",
      "人工智能中的先验知识是如何被存储的？\n",
      "In artificial intelligence, prior knowledge can be stored by providing the machine with knowledge in a certain way, which includes descriptions of goals, features, relationships between objects, events, time, states, reasons, results, or any knowledge that one wishes the machine to store. This stored prior knowledge can be combined with specific reasoning rules (such as logical reasoning) to derive new knowledge through intelligent inference.\n",
      "人工智能的自我更新和自我提升是否可能导致其脱离人类的控制？\n",
      "Yes, the self-updating and self-improving capabilities of artificial intelligence could potentially lead to it surpassing human control.\n",
      "> Merging 2 nodes into parent node.\n",
      "> Parent node id: 8bc4d6be-e10d-40dc-8af3-5684cfc080d2.\n",
      "> Parent node text: 依⽬前的研究⽅向，电脑⽆法突变、苏醒、产⽣⾃我意志，AI也不可能具有创意与智能、同情⼼与审美等这⽅⾯的能⼒。\n",
      "AI逐渐普及后，将会在企业管理中扮演很重要的⾓⾊，⽽⼈类的管理者应 如何适度的调整⾃...\n",
      "\n",
      "管理者如何管理AI？\n",
      "Management should consider adjusting their work functions by relinquishing administrative tasks, focusing on enhancing their comprehensive judgment abilities, and emphasizing creativity, ethical management, and economic impacts. It is essential to address the threats posed by AI and balance the perspectives of pessimism and optimism in dealing with AI and management.\n",
      "强人工智能是什么？\n",
      "强人工智能是指一种观点，认为有可能制造出真正能够推理和解决问题的智能机器，并且这样的机器将被认为具有知觉和自我意识。\n",
      "人工智能被滥用带来的危害？\n",
      "The misuse of artificial intelligence technology can potentially violate copyright laws and other legal regulations. Instances of using AI to remove mosaic from explicit images or alter the content of images have been dealt with by law enforcement in Japan. Additionally, the misuse of AI can lead to societal instability if the number of individuals negatively impacted is significant, potentially creating a destabilizing force that could be exploited by malicious actors, leading to various events.\n",
      "什么是适合我的人工智能工作?\n",
      "适合您的人工智能工作是那些需要感知环境、采取行动、学习经验、做出决策并快速回应的工作，以及那些涉及推理和解决问题，需要具有知觉和自我意识的工作。\n"
     ]
    }
   ],
   "source": [
    "for question in eval_questions_en:\n",
    "    with tru_recorder_automerging as recording:\n",
    "        response = automerging_query_engine.query(question)\n",
    "        print(question)\n",
    "        print(response)"
   ]
  },
  {
   "cell_type": "code",
   "execution_count": null,
   "id": "5404dec1-60ca-42fa-ac13-793a5423aa64",
   "metadata": {
    "height": 30,
    "tags": []
   },
   "outputs": [
    {
     "data": {
      "text/html": [
       "<div>\n",
       "<style scoped>\n",
       "    .dataframe tbody tr th:only-of-type {\n",
       "        vertical-align: middle;\n",
       "    }\n",
       "\n",
       "    .dataframe tbody tr th {\n",
       "        vertical-align: top;\n",
       "    }\n",
       "\n",
       "    .dataframe thead th {\n",
       "        text-align: right;\n",
       "    }\n",
       "</style>\n",
       "<table border=\"1\" class=\"dataframe\">\n",
       "  <thead>\n",
       "    <tr style=\"text-align: right;\">\n",
       "      <th></th>\n",
       "      <th>Context Relevance</th>\n",
       "      <th>Answer Relevance</th>\n",
       "      <th>Groundedness</th>\n",
       "      <th>latency</th>\n",
       "      <th>total_cost</th>\n",
       "    </tr>\n",
       "    <tr>\n",
       "      <th>app_id</th>\n",
       "      <th></th>\n",
       "      <th></th>\n",
       "      <th></th>\n",
       "      <th></th>\n",
       "      <th></th>\n",
       "    </tr>\n",
       "  </thead>\n",
       "  <tbody>\n",
       "    <tr>\n",
       "      <th>Automerging Query Engine</th>\n",
       "      <td>0.8625</td>\n",
       "      <td>0.88</td>\n",
       "      <td>0.783333</td>\n",
       "      <td>3.666667</td>\n",
       "      <td>0.0</td>\n",
       "    </tr>\n",
       "  </tbody>\n",
       "</table>\n",
       "</div>"
      ],
      "text/plain": [
       "                          Context Relevance  Answer Relevance  Groundedness  \\\n",
       "app_id                                                                        \n",
       "Automerging Query Engine             0.8625              0.88      0.783333   \n",
       "\n",
       "                           latency  total_cost  \n",
       "app_id                                          \n",
       "Automerging Query Engine  3.666667         0.0  "
      ]
     },
     "execution_count": 37,
     "metadata": {},
     "output_type": "execute_result"
    }
   ],
   "source": [
    "tru.get_leaderboard(app_ids=[])"
   ]
  },
  {
   "cell_type": "code",
   "execution_count": null,
   "id": "0f545d41-0d98-446f-8214-8b59bef08d6c",
   "metadata": {
    "height": 47,
    "tags": []
   },
   "outputs": [
    {
     "name": "stdout",
     "output_type": "stream",
     "text": [
      "Starting dashboard ...\n",
      "Config file already exists. Skipping writing process.\n",
      "Credentials file already exists. Skipping writing process.\n",
      "Dashboard already running at path:   Network URL: http://198.18.0.1:8501\n",
      "\n"
     ]
    },
    {
     "data": {
      "text/plain": [
       "<Popen: returncode: None args: ['streamlit', 'run', '--server.headless=True'...>"
      ]
     },
     "execution_count": 38,
     "metadata": {},
     "output_type": "execute_result"
    }
   ],
   "source": [
    "# launches on http://localhost:8501/\n",
    "tru.run_dashboard()"
   ]
  },
  {
   "cell_type": "code",
   "execution_count": null,
   "id": "0297085c",
   "metadata": {},
   "outputs": [],
   "source": []
  },
  {
   "cell_type": "code",
   "execution_count": null,
   "id": "5075cb35",
   "metadata": {},
   "outputs": [],
   "source": []
  }
 ],
 "metadata": {
  "kernelspec": {
   "display_name": "Python 3 (ipykernel)",
   "language": "python",
   "name": "python3"
  },
  "language_info": {
   "codemirror_mode": {
    "name": "ipython",
    "version": 3
   },
   "file_extension": ".py",
   "mimetype": "text/x-python",
   "name": "python",
   "nbconvert_exporter": "python",
   "pygments_lexer": "ipython3",
   "version": "0.0.0"
  }
 },
 "nbformat": 4,
 "nbformat_minor": 5
}
