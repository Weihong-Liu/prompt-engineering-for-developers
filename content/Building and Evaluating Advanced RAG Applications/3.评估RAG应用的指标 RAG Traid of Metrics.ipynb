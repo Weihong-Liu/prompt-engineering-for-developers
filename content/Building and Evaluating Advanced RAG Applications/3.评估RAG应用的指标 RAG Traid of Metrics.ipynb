{
 "cells": [
  {
   "cell_type": "markdown",
   "metadata": {
    "id": "X6-q-gTUaZU7",
    "tags": []
   },
   "source": [
    "# 第三章 RAG应用评估指标"
   ]
  },
  {
   "cell_type": "markdown",
   "metadata": {},
   "source": [
    "## 一、介绍\n",
    "本章节主要内容为评估 RAG 应用中常用的三个指标，分别为：\n",
    "1. Answer relevance：评估RAG系统的输出是否与问题相关；\n",
    "2. Context relevance：评估RAG系统召回的上下文是否与问题相关；\n",
    "3. Groundness: 评估RAG系统的输出是否基于召回的上下文；\n",
    "\n",
    "<img src=\"./images/ch03_traid.jpg\" width=\"500\">"
   ]
  },
  {
   "cell_type": "markdown",
   "metadata": {},
   "source": [
    "首先需要安装本课程中需要的评估框架，如果已经安装就可以跳过这一步骤。"
   ]
  },
  {
   "cell_type": "code",
   "execution_count": 1,
   "metadata": {},
   "outputs": [],
   "source": [
    "# requirements\n",
    "# pip install trulens_eval"
   ]
  },
  {
   "cell_type": "markdown",
   "metadata": {},
   "source": [
    "在这里，为了美观和方便展示，我们设置输出忽略警告信息。"
   ]
  },
  {
   "cell_type": "code",
   "execution_count": 2,
   "metadata": {
    "height": 47
   },
   "outputs": [],
   "source": [
    "# 忽略警告，避免警告影响输出结果\n",
    "import warnings\n",
    "warnings.filterwarnings('ignore')"
   ]
  },
  {
   "cell_type": "markdown",
   "metadata": {},
   "source": [
    "接下来，导入该课程需要的工具包utils，然后设置openai的API密钥。\n",
    "有三种方式设置API密钥：\n",
    "1. 在环境变量中设置`OPENAI_API_KEY`，然后使用utils直接获取；\n",
    "2. 显式设置api_key，直接赋值给openai.api_key；\n",
    "3. 如果没有openai的密钥的话，也可以选择使用第三方服务，修改openai.api_base即可；"
   ]
  },
  {
   "cell_type": "code",
   "execution_count": 3,
   "metadata": {
    "height": 98
   },
   "outputs": [
    {
     "name": "stdout",
     "output_type": "stream",
     "text": [
      "✅ In Answer Relevance, input prompt will be set to __record__.main_input or `Select.RecordInput` .\n",
      "✅ In Answer Relevance, input response will be set to __record__.main_output or `Select.RecordOutput` .\n",
      "✅ In Context Relevance, input prompt will be set to __record__.main_input or `Select.RecordInput` .\n",
      "✅ In Context Relevance, input response will be set to __record__.app.query.rets.source_nodes[:].node.text .\n",
      "✅ In Groundedness, input source will be set to __record__.app.query.rets.source_nodes[:].node.text .\n",
      "✅ In Groundedness, input statement will be set to __record__.main_output or `Select.RecordOutput` .\n"
     ]
    }
   ],
   "source": [
    "import utils\n",
    "# 导入自定义的工具包\n",
    "\n",
    "import os\n",
    "import openai\n",
    "# openai.api_key = utils.get_openai_api_key()\n",
    "# 设置OpenAI的API密钥，从环境变量中获取\n",
    "\n",
    "# openai.api_key = \"\" \n",
    "# 或者这里填入你的OpenAI API密钥\n",
    "\n",
    "# openai.api_key = \"sk- \"  \n",
    "# openai.api_base = \" \"\n",
    "# 或者自定义API密钥和API基础地址，可适用第三方API服务\n"
   ]
  },
  {
   "cell_type": "markdown",
   "metadata": {},
   "source": [
    "接来下，开始教程的设置环节。\n",
    "首先需要重置数据库，这会在之后用于存储问题、召回结果和回答，方便管理和评估。"
   ]
  },
  {
   "cell_type": "code",
   "execution_count": 4,
   "metadata": {
    "height": 81,
    "id": "IBfdyn3MaZU9"
   },
   "outputs": [
    {
     "name": "stdout",
     "output_type": "stream",
     "text": [
      "🦑 Tru initialized with db url sqlite:///default.sqlite .\n",
      "🛑 Secret keys may be written to the database. See the `database_redact_keys` option of `Tru` to prevent this.\n"
     ]
    }
   ],
   "source": [
    "# 导入Tru类\n",
    "from trulens_eval import Tru\n",
    "\n",
    "\n",
    "# 实例化Tru类\n",
    "tru = Tru()\n",
    "\n",
    "# 重置数据库\n",
    "# 数据库之后会用来存储问题、中间召回结果、答案以及评估结果\n",
    "tru.reset_database()\n"
   ]
  },
  {
   "cell_type": "markdown",
   "metadata": {},
   "source": [
    "接下来，导入读取pdf所需要的SimpleDirectoryReader，读取指定文件夹下的pdf文件。\n",
    "需要注意的是，默认的参数适合读取英文文档，如果文档为中文，需要在后续将全角字符转换为半角字符。"
   ]
  },
  {
   "cell_type": "code",
   "execution_count": 5,
   "metadata": {
    "height": 98,
    "id": "wMvq1q8yaZU-"
   },
   "outputs": [],
   "source": [
    "# 设置Llama Index reader\n",
    "from llama_index import SimpleDirectoryReader\n",
    "\n",
    "# 从一个文件夹中读取PDF文档，然后加载到document对象中\n",
    "# 使用的文档为“人工智能”词条的维基百科页面\n",
    "documents = SimpleDirectoryReader(\n",
    "    input_files=[\"./data/人工智能.pdf\"]\n",
    ").load_data()\n"
   ]
  },
  {
   "cell_type": "markdown",
   "metadata": {},
   "source": [
    "为了方面起见，将读取的pdf文档加载到同一个document对象中，用`\"\\n\\n\"`隔开；"
   ]
  },
  {
   "cell_type": "code",
   "execution_count": 6,
   "metadata": {
    "height": 81,
    "id": "sY8Oui4taZU-"
   },
   "outputs": [],
   "source": [
    "from llama_index import Document\n",
    "\n",
    "# 将documents中的内容合并成一个大文档，而不是每一页都是一个文档\n",
    "document = Document(text=\"\\n\\n\".\\\n",
    "                    join([doc.text for doc in documents]))\n"
   ]
  },
  {
   "cell_type": "code",
   "execution_count": 7,
   "metadata": {},
   "outputs": [],
   "source": [
    "# 将中文标点符号替换成英文标点符号，方便后续处理\n",
    "# 如果是英文文档，可以跳过这一步\n",
    "# 不处理的话，会导致无法正确切分中文句子，会影响后续sentence_window的大小，导致输入长度大于gpt-3.5-turbo的最大限制\n",
    "document.text=document.text.replace('。','. ')\n",
    "document.text=document.text.replace('！','! ')\n",
    "document.text=document.text.replace('？','? ')\n"
   ]
  },
  {
   "cell_type": "markdown",
   "metadata": {},
   "source": [
    "设置index存储，首先设置用来评估的大模型为gpt-3.5-turbo，需要注意的是这里使用的版本的上下文窗口为4096，因此需要注意输入的长度。\n",
    "然后设置embedding模型，我们选择了BAAI/bge-small-zh-v1.5，这里可以根据场景的需要和计算资源的trade off选择模型的大小和语种。"
   ]
  },
  {
   "cell_type": "code",
   "execution_count": 8,
   "metadata": {
    "height": 217
   },
   "outputs": [],
   "source": [
    "# 设置sentence_index\n",
    "from utils import build_sentence_window_index\n",
    "\n",
    "from llama_index.llms import OpenAI\n",
    "\n",
    "# 设置使用的大模型\n",
    "# \"gpt-3.5-turbo\"是模型的名称\n",
    "# temperature是温度，用来控制文本生成过程中的多样性\n",
    "llm = OpenAI(model=\"gpt-3.5-turbo\", temperature=0.1)\n",
    "\n",
    "# 设置embedding模型\n",
    "# 这里是在本地使用BAAI/bge-small-zh-v1.5\n",
    "# document的所有的内容会索引到sentence index对象中\n",
    "# 国内使用可以切换huggingface镜像站\n",
    "sentence_index = build_sentence_window_index(\n",
    "    document,\n",
    "    llm,\n",
    "    embed_model=\"local:BAAI/bge-small-zh-v1.5\",\n",
    "    save_dir=\"sentence_index\"\n",
    ")\n"
   ]
  },
  {
   "cell_type": "markdown",
   "metadata": {},
   "source": [
    "使用工具包中封装好的函数，基于上一步建立好的索引，返回用于之后检索的引擎。"
   ]
  },
  {
   "cell_type": "code",
   "execution_count": 9,
   "metadata": {
    "height": 81
   },
   "outputs": [],
   "source": [
    "from utils import get_sentence_window_query_engine\n",
    "\n",
    "# 根据sentence_index对象创建一个搜索引擎\n",
    "# 之后会被用于在RAG应用中进行召回\n",
    "sentence_window_engine = \\\n",
    "get_sentence_window_query_engine(sentence_index)\n"
   ]
  },
  {
   "cell_type": "markdown",
   "metadata": {},
   "source": [
    "这里我们先测试单个问题来debug，看一下输出是什么。"
   ]
  },
  {
   "cell_type": "code",
   "execution_count": 10,
   "metadata": {
    "height": 64
   },
   "outputs": [
    {
     "name": "stderr",
     "output_type": "stream",
     "text": [
      "python(88138) MallocStackLogging: can't turn off malloc stack logging because it was not enabled.\n",
      "huggingface/tokenizers: The current process just got forked, after parallelism has already been used. Disabling parallelism to avoid deadlocks...\n",
      "To disable this warning, you can either:\n",
      "\t- Avoid using `tokenizers` before the fork if possible\n",
      "\t- Explicitly set the environment variable TOKENIZERS_PARALLELISM=(true | false)\n"
     ]
    },
    {
     "data": {
      "text/plain": [
       "Response(response='AI的核心问题是建构能够跟人类类似甚至超卓的推理、知识、计划、学习、交流、感知、移动、移物、使用工具和操控机械的能力。而AI的长远目标是实现通用人工智能（GAI），即能够解决各种问题的统合强人工智能。', source_nodes=[NodeWithScore(node=TextNode(id_='a30ea2a3-2e08-4ebc-a9f3-4627ebb6b6e0', embedding=None, metadata={'window': '⼈⼯智能的研究是⾼度技术性和专业的，各分⽀领域都是深⼊且各不相通的，因⽽涉及范围极⼴[9].  ⼈⼯智能的\\n研究可以分为⼏个技术问题.  其分⽀领域主要集中在解决具体问题，其中之⼀是，如何使⽤各种不同的⼯具完成\\n特定的应⽤程序. \\n AI的核⼼问题包括建构能够跟⼈类似甚⾄超卓的推理、知识、计划、学习、交流、感知、移动 、移物、使⽤⼯\\n具和操控机械的能⼒等[10].  通⽤⼈⼯智能（GAI）⽬前仍然是该领域的长远⽬标[11].  ⽬前弱⼈⼯智能已经有初\\n步成果，甚⾄在⼀些影像识别、语⾔分析、棋类游戏等等单⽅⾯的能⼒达到了超越⼈类的⽔平，⽽且⼈⼯智能的\\n通⽤性代表着，能解决上述的问题的是⼀样的AI程序，⽆须重新开发算法就可以直接使⽤现有的AI完成任务，与\\n⼈类的处理能⼒相同，但达到具备思考能⼒的统合强⼈⼯智能还需要时间研究，⽐较流⾏的⽅法包括统计⽅法，\\n计算智能和传统意义的AI. ', 'original_text': 'AI的核⼼问题包括建构能够跟⼈类似甚⾄超卓的推理、知识、计划、学习、交流、感知、移动 、移物、使⽤⼯\\n具和操控机械的能⼒等[10]. '}, excluded_embed_metadata_keys=['window', 'original_text'], excluded_llm_metadata_keys=['window', 'original_text'], relationships={<NodeRelationship.SOURCE: '1'>: RelatedNodeInfo(node_id='bf662866-5fd5-43b5-8e76-a021937ebb56', node_type=<ObjectType.DOCUMENT: '4'>, metadata={}, hash='67e3e65fc6ed662e44fcdbdbc5312643623b6681cfef7254156a8c4dae9c464a'), <NodeRelationship.PREVIOUS: '2'>: RelatedNodeInfo(node_id='9e8c3b5b-e92d-4930-873e-df05751f7c87', node_type=<ObjectType.TEXT: '1'>, metadata={'window': '计算机视觉 ：⾃动⽣成识别形状和功能的能⼒ [8]. \\n ⼈⼯智能的研究是⾼度技术性和专业的，各分⽀领域都是深⼊且各不相通的，因⽽涉及范围极⼴[9].  ⼈⼯智能的\\n研究可以分为⼏个技术问题.  其分⽀领域主要集中在解决具体问题，其中之⼀是，如何使⽤各种不同的⼯具完成\\n特定的应⽤程序. \\n AI的核⼼问题包括建构能够跟⼈类似甚⾄超卓的推理、知识、计划、学习、交流、感知、移动 、移物、使⽤⼯\\n具和操控机械的能⼒等[10].  通⽤⼈⼯智能（GAI）⽬前仍然是该领域的长远⽬标[11]. ', 'original_text': '其分⽀领域主要集中在解决具体问题，其中之⼀是，如何使⽤各种不同的⼯具完成\\n特定的应⽤程序. \\n'}, hash='7d7fbbbd1c4f0450f908cae8c67cb56ae696f4a7838c215259c6cae232855ee6'), <NodeRelationship.NEXT: '3'>: RelatedNodeInfo(node_id='c5720668-54f2-46dc-b7d9-499ddc7bf437', node_type=<ObjectType.TEXT: '1'>, metadata={'window': '⼈⼯智能的\\n研究可以分为⼏个技术问题.  其分⽀领域主要集中在解决具体问题，其中之⼀是，如何使⽤各种不同的⼯具完成\\n特定的应⽤程序. \\n AI的核⼼问题包括建构能够跟⼈类似甚⾄超卓的推理、知识、计划、学习、交流、感知、移动 、移物、使⽤⼯\\n具和操控机械的能⼒等[10].  通⽤⼈⼯智能（GAI）⽬前仍然是该领域的长远⽬标[11].  ⽬前弱⼈⼯智能已经有初\\n步成果，甚⾄在⼀些影像识别、语⾔分析、棋类游戏等等单⽅⾯的能⼒达到了超越⼈类的⽔平，⽽且⼈⼯智能的\\n通⽤性代表着，能解决上述的问题的是⼀样的AI程序，⽆须重新开发算法就可以直接使⽤现有的AI完成任务，与\\n⼈类的处理能⼒相同，但达到具备思考能⼒的统合强⼈⼯智能还需要时间研究，⽐较流⾏的⽅法包括统计⽅法，\\n计算智能和传统意义的AI.  ⽬前有⼤量的⼯具应⽤了⼈⼯智能，其中包括搜索和数学优化、逻辑推演. ', 'original_text': '通⽤⼈⼯智能（GAI）⽬前仍然是该领域的长远⽬标[11]. '}, hash='63c4a6c8f8e3a88fb4470eef34ca77db89370d636b1e06f02ae08c7872555a80')}, text='⼈⼯智能的研究是⾼度技术性和专业的，各分⽀领域都是深⼊且各不相通的，因⽽涉及范围极⼴[9].  ⼈⼯智能的\\n研究可以分为⼏个技术问题.  其分⽀领域主要集中在解决具体问题，其中之⼀是，如何使⽤各种不同的⼯具完成\\n特定的应⽤程序. \\n AI的核⼼问题包括建构能够跟⼈类似甚⾄超卓的推理、知识、计划、学习、交流、感知、移动 、移物、使⽤⼯\\n具和操控机械的能⼒等[10].  通⽤⼈⼯智能（GAI）⽬前仍然是该领域的长远⽬标[11].  ⽬前弱⼈⼯智能已经有初\\n步成果，甚⾄在⼀些影像识别、语⾔分析、棋类游戏等等单⽅⾯的能⼒达到了超越⼈类的⽔平，⽽且⼈⼯智能的\\n通⽤性代表着，能解决上述的问题的是⼀样的AI程序，⽆须重新开发算法就可以直接使⽤现有的AI完成任务，与\\n⼈类的处理能⼒相同，但达到具备思考能⼒的统合强⼈⼯智能还需要时间研究，⽐较流⾏的⽅法包括统计⽅法，\\n计算智能和传统意义的AI. ', start_char_idx=1043, end_char_idx=1110, text_template='{metadata_str}\\n\\n{content}', metadata_template='{key}: {value}', metadata_seperator='\\n'), score=0.9991991), NodeWithScore(node=TextNode(id_='c5720668-54f2-46dc-b7d9-499ddc7bf437', embedding=None, metadata={'window': '⼈⼯智能的\\n研究可以分为⼏个技术问题.  其分⽀领域主要集中在解决具体问题，其中之⼀是，如何使⽤各种不同的⼯具完成\\n特定的应⽤程序. \\n AI的核⼼问题包括建构能够跟⼈类似甚⾄超卓的推理、知识、计划、学习、交流、感知、移动 、移物、使⽤⼯\\n具和操控机械的能⼒等[10].  通⽤⼈⼯智能（GAI）⽬前仍然是该领域的长远⽬标[11].  ⽬前弱⼈⼯智能已经有初\\n步成果，甚⾄在⼀些影像识别、语⾔分析、棋类游戏等等单⽅⾯的能⼒达到了超越⼈类的⽔平，⽽且⼈⼯智能的\\n通⽤性代表着，能解决上述的问题的是⼀样的AI程序，⽆须重新开发算法就可以直接使⽤现有的AI完成任务，与\\n⼈类的处理能⼒相同，但达到具备思考能⼒的统合强⼈⼯智能还需要时间研究，⽐较流⾏的⽅法包括统计⽅法，\\n计算智能和传统意义的AI.  ⽬前有⼤量的⼯具应⽤了⼈⼯智能，其中包括搜索和数学优化、逻辑推演. ', 'original_text': '通⽤⼈⼯智能（GAI）⽬前仍然是该领域的长远⽬标[11]. '}, excluded_embed_metadata_keys=['window', 'original_text'], excluded_llm_metadata_keys=['window', 'original_text'], relationships={<NodeRelationship.SOURCE: '1'>: RelatedNodeInfo(node_id='bf662866-5fd5-43b5-8e76-a021937ebb56', node_type=<ObjectType.DOCUMENT: '4'>, metadata={}, hash='67e3e65fc6ed662e44fcdbdbc5312643623b6681cfef7254156a8c4dae9c464a'), <NodeRelationship.PREVIOUS: '2'>: RelatedNodeInfo(node_id='a30ea2a3-2e08-4ebc-a9f3-4627ebb6b6e0', node_type=<ObjectType.TEXT: '1'>, metadata={'window': '⼈⼯智能的研究是⾼度技术性和专业的，各分⽀领域都是深⼊且各不相通的，因⽽涉及范围极⼴[9].  ⼈⼯智能的\\n研究可以分为⼏个技术问题.  其分⽀领域主要集中在解决具体问题，其中之⼀是，如何使⽤各种不同的⼯具完成\\n特定的应⽤程序. \\n AI的核⼼问题包括建构能够跟⼈类似甚⾄超卓的推理、知识、计划、学习、交流、感知、移动 、移物、使⽤⼯\\n具和操控机械的能⼒等[10].  通⽤⼈⼯智能（GAI）⽬前仍然是该领域的长远⽬标[11].  ⽬前弱⼈⼯智能已经有初\\n步成果，甚⾄在⼀些影像识别、语⾔分析、棋类游戏等等单⽅⾯的能⼒达到了超越⼈类的⽔平，⽽且⼈⼯智能的\\n通⽤性代表着，能解决上述的问题的是⼀样的AI程序，⽆须重新开发算法就可以直接使⽤现有的AI完成任务，与\\n⼈类的处理能⼒相同，但达到具备思考能⼒的统合强⼈⼯智能还需要时间研究，⽐较流⾏的⽅法包括统计⽅法，\\n计算智能和传统意义的AI. ', 'original_text': 'AI的核⼼问题包括建构能够跟⼈类似甚⾄超卓的推理、知识、计划、学习、交流、感知、移动 、移物、使⽤⼯\\n具和操控机械的能⼒等[10]. '}, hash='7dfe6a7dc44b51a3b7112981a1992a614b9c31174183904f3d1f2b294159dee4'), <NodeRelationship.NEXT: '3'>: RelatedNodeInfo(node_id='4a39388e-7819-40e1-b65e-1e02371886c9', node_type=<ObjectType.TEXT: '1'>, metadata={'window': '其分⽀领域主要集中在解决具体问题，其中之⼀是，如何使⽤各种不同的⼯具完成\\n特定的应⽤程序. \\n AI的核⼼问题包括建构能够跟⼈类似甚⾄超卓的推理、知识、计划、学习、交流、感知、移动 、移物、使⽤⼯\\n具和操控机械的能⼒等[10].  通⽤⼈⼯智能（GAI）⽬前仍然是该领域的长远⽬标[11].  ⽬前弱⼈⼯智能已经有初\\n步成果，甚⾄在⼀些影像识别、语⾔分析、棋类游戏等等单⽅⾯的能⼒达到了超越⼈类的⽔平，⽽且⼈⼯智能的\\n通⽤性代表着，能解决上述的问题的是⼀样的AI程序，⽆须重新开发算法就可以直接使⽤现有的AI完成任务，与\\n⼈类的处理能⼒相同，但达到具备思考能⼒的统合强⼈⼯智能还需要时间研究，⽐较流⾏的⽅法包括统计⽅法，\\n计算智能和传统意义的AI.  ⽬前有⼤量的⼯具应⽤了⼈⼯智能，其中包括搜索和数学优化、逻辑推演.  ⽽基于仿\\n⽣学 、认知⼼理学 ，以及基于 概率论 和经济学 的算法 等等也在逐步探索当中. \\n', 'original_text': '⽬前弱⼈⼯智能已经有初\\n步成果，甚⾄在⼀些影像识别、语⾔分析、棋类游戏等等单⽅⾯的能⼒达到了超越⼈类的⽔平，⽽且⼈⼯智能的\\n通⽤性代表着，能解决上述的问题的是⼀样的AI程序，⽆须重新开发算法就可以直接使⽤现有的AI完成任务，与\\n⼈类的处理能⼒相同，但达到具备思考能⼒的统合强⼈⼯智能还需要时间研究，⽐较流⾏的⽅法包括统计⽅法，\\n计算智能和传统意义的AI. '}, hash='ebc26cda054280ab16e3f1e1efdbd5429e1b667a4cf3885bb0bccf5aa47c3300')}, text='⼈⼯智能的\\n研究可以分为⼏个技术问题.  其分⽀领域主要集中在解决具体问题，其中之⼀是，如何使⽤各种不同的⼯具完成\\n特定的应⽤程序. \\n AI的核⼼问题包括建构能够跟⼈类似甚⾄超卓的推理、知识、计划、学习、交流、感知、移动 、移物、使⽤⼯\\n具和操控机械的能⼒等[10].  通⽤⼈⼯智能（GAI）⽬前仍然是该领域的长远⽬标[11].  ⽬前弱⼈⼯智能已经有初\\n步成果，甚⾄在⼀些影像识别、语⾔分析、棋类游戏等等单⽅⾯的能⼒达到了超越⼈类的⽔平，⽽且⼈⼯智能的\\n通⽤性代表着，能解决上述的问题的是⼀样的AI程序，⽆须重新开发算法就可以直接使⽤现有的AI完成任务，与\\n⼈类的处理能⼒相同，但达到具备思考能⼒的统合强⼈⼯智能还需要时间研究，⽐较流⾏的⽅法包括统计⽅法，\\n计算智能和传统意义的AI.  ⽬前有⼤量的⼯具应⽤了⼈⼯智能，其中包括搜索和数学优化、逻辑推演. ', start_char_idx=1110, end_char_idx=1140, text_template='{metadata_str}\\n\\n{content}', metadata_template='{key}: {value}', metadata_seperator='\\n'), score=0.9991542)], metadata={'a30ea2a3-2e08-4ebc-a9f3-4627ebb6b6e0': {'window': '⼈⼯智能的研究是⾼度技术性和专业的，各分⽀领域都是深⼊且各不相通的，因⽽涉及范围极⼴[9].  ⼈⼯智能的\\n研究可以分为⼏个技术问题.  其分⽀领域主要集中在解决具体问题，其中之⼀是，如何使⽤各种不同的⼯具完成\\n特定的应⽤程序. \\n AI的核⼼问题包括建构能够跟⼈类似甚⾄超卓的推理、知识、计划、学习、交流、感知、移动 、移物、使⽤⼯\\n具和操控机械的能⼒等[10].  通⽤⼈⼯智能（GAI）⽬前仍然是该领域的长远⽬标[11].  ⽬前弱⼈⼯智能已经有初\\n步成果，甚⾄在⼀些影像识别、语⾔分析、棋类游戏等等单⽅⾯的能⼒达到了超越⼈类的⽔平，⽽且⼈⼯智能的\\n通⽤性代表着，能解决上述的问题的是⼀样的AI程序，⽆须重新开发算法就可以直接使⽤现有的AI完成任务，与\\n⼈类的处理能⼒相同，但达到具备思考能⼒的统合强⼈⼯智能还需要时间研究，⽐较流⾏的⽅法包括统计⽅法，\\n计算智能和传统意义的AI. ', 'original_text': 'AI的核⼼问题包括建构能够跟⼈类似甚⾄超卓的推理、知识、计划、学习、交流、感知、移动 、移物、使⽤⼯\\n具和操控机械的能⼒等[10]. '}, 'c5720668-54f2-46dc-b7d9-499ddc7bf437': {'window': '⼈⼯智能的\\n研究可以分为⼏个技术问题.  其分⽀领域主要集中在解决具体问题，其中之⼀是，如何使⽤各种不同的⼯具完成\\n特定的应⽤程序. \\n AI的核⼼问题包括建构能够跟⼈类似甚⾄超卓的推理、知识、计划、学习、交流、感知、移动 、移物、使⽤⼯\\n具和操控机械的能⼒等[10].  通⽤⼈⼯智能（GAI）⽬前仍然是该领域的长远⽬标[11].  ⽬前弱⼈⼯智能已经有初\\n步成果，甚⾄在⼀些影像识别、语⾔分析、棋类游戏等等单⽅⾯的能⼒达到了超越⼈类的⽔平，⽽且⼈⼯智能的\\n通⽤性代表着，能解决上述的问题的是⼀样的AI程序，⽆须重新开发算法就可以直接使⽤现有的AI完成任务，与\\n⼈类的处理能⼒相同，但达到具备思考能⼒的统合强⼈⼯智能还需要时间研究，⽐较流⾏的⽅法包括统计⽅法，\\n计算智能和传统意义的AI.  ⽬前有⼤量的⼯具应⽤了⼈⼯智能，其中包括搜索和数学优化、逻辑推演. ', 'original_text': '通⽤⼈⼯智能（GAI）⽬前仍然是该领域的长远⽬标[11]. '}})"
      ]
     },
     "execution_count": 10,
     "metadata": {},
     "output_type": "execute_result"
    }
   ],
   "source": [
    "output = sentence_window_engine.query(\n",
    "    \"AI的核心问题和长远目标是什么？\")\n",
    "output\n",
    "# 示例：使用搜索引擎进行召回"
   ]
  },
  {
   "cell_type": "code",
   "execution_count": 11,
   "metadata": {},
   "outputs": [
    {
     "data": {
      "text/plain": [
       "{'a30ea2a3-2e08-4ebc-a9f3-4627ebb6b6e0': {'window': '⼈⼯智能的研究是⾼度技术性和专业的，各分⽀领域都是深⼊且各不相通的，因⽽涉及范围极⼴[9].  ⼈⼯智能的\\n研究可以分为⼏个技术问题.  其分⽀领域主要集中在解决具体问题，其中之⼀是，如何使⽤各种不同的⼯具完成\\n特定的应⽤程序. \\n AI的核⼼问题包括建构能够跟⼈类似甚⾄超卓的推理、知识、计划、学习、交流、感知、移动 、移物、使⽤⼯\\n具和操控机械的能⼒等[10].  通⽤⼈⼯智能（GAI）⽬前仍然是该领域的长远⽬标[11].  ⽬前弱⼈⼯智能已经有初\\n步成果，甚⾄在⼀些影像识别、语⾔分析、棋类游戏等等单⽅⾯的能⼒达到了超越⼈类的⽔平，⽽且⼈⼯智能的\\n通⽤性代表着，能解决上述的问题的是⼀样的AI程序，⽆须重新开发算法就可以直接使⽤现有的AI完成任务，与\\n⼈类的处理能⼒相同，但达到具备思考能⼒的统合强⼈⼯智能还需要时间研究，⽐较流⾏的⽅法包括统计⽅法，\\n计算智能和传统意义的AI. ',\n",
       "  'original_text': 'AI的核⼼问题包括建构能够跟⼈类似甚⾄超卓的推理、知识、计划、学习、交流、感知、移动 、移物、使⽤⼯\\n具和操控机械的能⼒等[10]. '},\n",
       " 'c5720668-54f2-46dc-b7d9-499ddc7bf437': {'window': '⼈⼯智能的\\n研究可以分为⼏个技术问题.  其分⽀领域主要集中在解决具体问题，其中之⼀是，如何使⽤各种不同的⼯具完成\\n特定的应⽤程序. \\n AI的核⼼问题包括建构能够跟⼈类似甚⾄超卓的推理、知识、计划、学习、交流、感知、移动 、移物、使⽤⼯\\n具和操控机械的能⼒等[10].  通⽤⼈⼯智能（GAI）⽬前仍然是该领域的长远⽬标[11].  ⽬前弱⼈⼯智能已经有初\\n步成果，甚⾄在⼀些影像识别、语⾔分析、棋类游戏等等单⽅⾯的能⼒达到了超越⼈类的⽔平，⽽且⼈⼯智能的\\n通⽤性代表着，能解决上述的问题的是⼀样的AI程序，⽆须重新开发算法就可以直接使⽤现有的AI完成任务，与\\n⼈类的处理能⼒相同，但达到具备思考能⼒的统合强⼈⼯智能还需要时间研究，⽐较流⾏的⽅法包括统计⽅法，\\n计算智能和传统意义的AI.  ⽬前有⼤量的⼯具应⽤了⼈⼯智能，其中包括搜索和数学优化、逻辑推演. ',\n",
       "  'original_text': '通⽤⼈⼯智能（GAI）⽬前仍然是该领域的长远⽬标[11]. '}}"
      ]
     },
     "execution_count": 11,
     "metadata": {},
     "output_type": "execute_result"
    }
   ],
   "source": [
    "# 在实际开发中，可以通过查看metadata进行debug\n",
    "output.metadata"
   ]
  },
  {
   "cell_type": "markdown",
   "metadata": {},
   "source": []
  },
  {
   "cell_type": "markdown",
   "metadata": {},
   "source": [
    "## 二、 Feedback functions\n",
    "feedback function是一个衡量RAG系统的问题、上下文、答案三者之间关系的函数。在RAG系统中，feedback function通常是一个评估模型的指标，用于评估RAG系统的各个方面的性能。具体来说，在本教程中，主要为，answer relevance、context relevance、groundness三个指标。\n",
    "\n",
    "<img src=\"./images/ch03_feedback.jpg\" width=\"500\">\n"
   ]
  },
  {
   "cell_type": "code",
   "execution_count": 12,
   "metadata": {
    "height": 64,
    "id": "5KqV-IbQaZVB"
   },
   "outputs": [],
   "source": [
    "import nest_asyncio\n",
    "\n",
    "# 保证后续可以使用streamlit进行评估结果管理和可视化\n",
    "nest_asyncio.apply()\n"
   ]
  },
  {
   "cell_type": "code",
   "execution_count": 13,
   "metadata": {
    "height": 64
   },
   "outputs": [],
   "source": [
    "from trulens_eval import OpenAI as fOpenAI\n",
    "\n",
    "# 初始化OpenAI gpt-3.5-turbo模型作为provider\n",
    "# provider之后会用来辅助评估RAG应用的各个指标：answer relevance, context relevance, groundedness.\n",
    "provider = fOpenAI()"
   ]
  },
  {
   "cell_type": "markdown",
   "metadata": {},
   "source": [
    "### 2.1、 Answer Relevance\n",
    "answer relevance用来评估RAG系统的输出是否与问题相关。\n",
    "\n",
    "<img src=\"./images/ch03_answer_rele.jpg\" width=\"500\">\n",
    "\n",
    "\n",
    "answer relevance的feedback function的结构为：\n",
    "\n",
    "<img src=\"./images/ch03_structure_answer.jpg\" width=\"500\">"
   ]
  },
  {
   "cell_type": "markdown",
   "metadata": {},
   "source": [
    "这里使用封装好的Feedback函数即可，我们需要做的是：指定评估的方式，指定名称，以及评估的对象。"
   ]
  },
  {
   "cell_type": "code",
   "execution_count": 14,
   "metadata": {
    "height": 115
   },
   "outputs": [
    {
     "name": "stdout",
     "output_type": "stream",
     "text": [
      "✅ In Answer Relevance, input prompt will be set to __record__.main_input or `Select.RecordInput` .\n",
      "✅ In Answer Relevance, input response will be set to __record__.main_output or `Select.RecordOutput` .\n"
     ]
    }
   ],
   "source": [
    "from trulens_eval import Feedback\n",
    "\n",
    "\n",
    "# 这里为answer relevance设置feedback\n",
    "# 使用provider.relevance_with_cot_reasons作为评估函数，即，通过调用LLM使用chain of thought的方式进行评估\n",
    "# on_input_output()表示在输入和输出上进行评估\n",
    "f_qa_relevance = Feedback(\n",
    "    provider.relevance_with_cot_reasons,\n",
    "    name=\"Answer Relevance\"\n",
    ").on_input_output()"
   ]
  },
  {
   "cell_type": "markdown",
   "metadata": {},
   "source": [
    "### 2.2、 Context Relevance\n",
    "context relevance用来评估RAG系统召回的上下文是否与问题相关。\n",
    "\n",
    "<img src=\"./images/ch03_context_rele.jpg\" width=500>\n",
    "\n",
    "其feedback function的结构为：\n",
    "\n",
    "<img src=\"./images/ch03_structure_context.jpg\" width=500>"
   ]
  },
  {
   "cell_type": "code",
   "execution_count": 15,
   "metadata": {
    "height": 64
   },
   "outputs": [],
   "source": [
    "from trulens_eval import TruLlama\n",
    "\n",
    "# 选择召回的上下文\n",
    "context_selection = TruLlama.select_source_nodes().node.text"
   ]
  },
  {
   "cell_type": "markdown",
   "metadata": {},
   "source": [
    "这里的设置和上一步类似，只需要修改评估的对象即可。\n",
    "也可以选择修改评估的方式，进行对比。"
   ]
  },
  {
   "cell_type": "code",
   "execution_count": 16,
   "metadata": {
    "height": 166
   },
   "outputs": [
    {
     "name": "stdout",
     "output_type": "stream",
     "text": [
      "✅ In Context Relevance, input question will be set to __record__.main_input or `Select.RecordInput` .\n",
      "✅ In Context Relevance, input statement will be set to __record__.app.query.rets.source_nodes[:].node.text .\n"
     ]
    }
   ],
   "source": [
    "import numpy as np\n",
    "\n",
    "\n",
    "# 使用provider.qs_relevance作为评估函数\n",
    "# on_input()表示在输入上进行评估\n",
    "# on(context_selection)表示在context_selection上进行评估\n",
    "# aggregate(np.mean)表示使用np.mean作为聚合函数\n",
    "# 这里实际的意思是：对于context_selection中的每个句子，都会进行评估，然后取平均值作为最终的评估结果\n",
    "f_qs_relevance = (\n",
    "    Feedback(provider.qs_relevance,\n",
    "             name=\"Context Relevance\")\n",
    "    .on_input()\n",
    "    .on(context_selection)\n",
    "    .aggregate(np.mean)\n",
    ")"
   ]
  },
  {
   "cell_type": "code",
   "execution_count": 17,
   "metadata": {
    "height": 166
   },
   "outputs": [
    {
     "name": "stdout",
     "output_type": "stream",
     "text": [
      "✅ In Context Relevance, input question will be set to __record__.main_input or `Select.RecordInput` .\n",
      "✅ In Context Relevance, input statement will be set to __record__.app.query.rets.source_nodes[:].node.text .\n"
     ]
    }
   ],
   "source": [
    "import numpy as np\n",
    "\n",
    "# 同上，对于context_selection中的每个句子进行评估，取平均值作为评估结果\n",
    "f_qs_relevance = (\n",
    "    Feedback(provider.qs_relevance_with_cot_reasons,\n",
    "             name=\"Context Relevance\")\n",
    "    .on_input()\n",
    "    .on(context_selection)\n",
    "    .aggregate(np.mean)\n",
    ")\n"
   ]
  },
  {
   "cell_type": "markdown",
   "metadata": {},
   "source": [
    "### 2.3、 Groundedness"
   ]
  },
  {
   "cell_type": "code",
   "execution_count": 18,
   "metadata": {
    "height": 64
   },
   "outputs": [],
   "source": [
    "from trulens_eval.feedback import Groundedness\n",
    "\n",
    "grounded = Groundedness(groundedness_provider=provider)"
   ]
  },
  {
   "cell_type": "markdown",
   "metadata": {},
   "source": [
    "最后是groundedness，用来评估RAG系统的输出是否基于召回的上下文。\n",
    "设置和之前的类似。"
   ]
  },
  {
   "cell_type": "code",
   "execution_count": 19,
   "metadata": {
    "height": 149,
    "id": "kXJBD4gfaZVC"
   },
   "outputs": [
    {
     "name": "stdout",
     "output_type": "stream",
     "text": [
      "✅ In Groundedness, input source will be set to __record__.app.query.rets.source_nodes[:].node.text .\n",
      "✅ In Groundedness, input statement will be set to __record__.main_output or `Select.RecordOutput` .\n"
     ]
    }
   ],
   "source": [
    "# groundedness的评估，解释同answer relevance和context relevance\n",
    "f_groundedness = (\n",
    "    Feedback(grounded.groundedness_measure_with_cot_reasons,\n",
    "             name=\"Groundedness\"\n",
    "            )\n",
    "    .on(context_selection)\n",
    "    .on_output()\n",
    "    .aggregate(grounded.grounded_statements_aggregator)\n",
    ")"
   ]
  },
  {
   "cell_type": "markdown",
   "metadata": {},
   "source": [
    "## 三、Evaluation of the RAG application\n",
    "\n",
    "在RAG系统的评估中，feedback function可以通过多种方式实现。\n",
    "使用人工打分的方法可以获得最准确的评估结果，但是这种方法成本较高，因此在实际应用中，通常使用自动评估的方法。\n",
    "在本教程中，使用gpt-3.5-turbo来对RAG系统进行评估。\n",
    "这种方法的好处是，可以快速、低成本地对RAG系统进行评估，但是其评估结果可能不如人工打分准确。\n",
    "\n",
    "<img src=\"./images/ch03_bench.jpg\" width=\"500\">\n",
    "\n",
    "下面是整个RAG系统的评估流程的实现。"
   ]
  },
  {
   "cell_type": "code",
   "execution_count": 20,
   "metadata": {
    "height": 217,
    "id": "KUDHInR-aZVC"
   },
   "outputs": [],
   "source": [
    "from trulens_eval import TruLlama\n",
    "from trulens_eval import FeedbackMode\n",
    "\n",
    "\n",
    "# 实例化TruLlama类，用来记录评估结果\n",
    "# sentence_window_engine是之前创建的搜索引擎\n",
    "# app_id是应用的ID，用来标识应用\n",
    "tru_recorder = TruLlama(\n",
    "    sentence_window_engine,\n",
    "    app_id=\"App_1\",\n",
    "    feedbacks=[\n",
    "        f_qa_relevance,\n",
    "        f_qs_relevance,\n",
    "        f_groundedness\n",
    "    ]\n",
    ")"
   ]
  },
  {
   "cell_type": "markdown",
   "metadata": {},
   "source": [
    "读取用来评估的问题，这里为了节约时间并降低调用API的成本，我们只设置了6个问题。\n",
    "在实际场景中，可以手写或通过prompt seed的方法生成更多的问题，覆盖更多的场景。"
   ]
  },
  {
   "cell_type": "code",
   "execution_count": 21,
   "metadata": {
    "height": 115,
    "id": "dsA3ziw1aZVD"
   },
   "outputs": [],
   "source": [
    "eval_questions = []\n",
    "# 读取评估问题，在./data/eval_questions.txt下，可以自定义\n",
    "with open('./data/eval_questions.txt', 'r') as file:\n",
    "    for line in file:\n",
    "        # Remove newline character and convert to integer\n",
    "        item = line.strip()\n",
    "        eval_questions.append(item)"
   ]
  },
  {
   "cell_type": "code",
   "execution_count": 22,
   "metadata": {
    "height": 30
   },
   "outputs": [
    {
     "data": {
      "text/plain": [
       "['人工智能中的先验知识是如何被存储的？',\n",
       " '人工智能的自我更新和自我提升是否可能导致其脱离人类的控制？',\n",
       " '管理者如何管理AI？',\n",
       " '强人工智能是什么？',\n",
       " '人工智能被滥用带来的危害？']"
      ]
     },
     "execution_count": 22,
     "metadata": {},
     "output_type": "execute_result"
    }
   ],
   "source": [
    "eval_questions"
   ]
  },
  {
   "cell_type": "code",
   "execution_count": 23,
   "metadata": {
    "height": 30
   },
   "outputs": [],
   "source": [
    "eval_questions.append(\"如何在人工智能领域获得成功？\")"
   ]
  },
  {
   "cell_type": "code",
   "execution_count": 24,
   "metadata": {
    "height": 30
   },
   "outputs": [
    {
     "data": {
      "text/plain": [
       "['人工智能中的先验知识是如何被存储的？',\n",
       " '人工智能的自我更新和自我提升是否可能导致其脱离人类的控制？',\n",
       " '管理者如何管理AI？',\n",
       " '强人工智能是什么？',\n",
       " '人工智能被滥用带来的危害？',\n",
       " '如何在人工智能领域获得成功？']"
      ]
     },
     "execution_count": 24,
     "metadata": {},
     "output_type": "execute_result"
    }
   ],
   "source": [
    "eval_questions"
   ]
  },
  {
   "cell_type": "markdown",
   "metadata": {},
   "source": [
    "接下来开始评估，请求RAG系统的输出，然后使用feedback function对输出进行评估。"
   ]
  },
  {
   "cell_type": "code",
   "execution_count": 25,
   "metadata": {
    "height": 64,
    "id": "01_P6TxaaZVD"
   },
   "outputs": [],
   "source": [
    "# 对于每个评估问题，进行评估，并记录结果\n",
    "# 注意：该过程可能会比较耗时，请耐心等待\n",
    "for question in eval_questions:\n",
    "    with tru_recorder as recording:\n",
    "        sentence_window_engine.query(question)"
   ]
  },
  {
   "cell_type": "markdown",
   "metadata": {},
   "source": [
    "之后，需要进行编解码，将评估结果转换为中文可读的形式，方便分析。"
   ]
  },
  {
   "cell_type": "code",
   "execution_count": 26,
   "metadata": {
    "height": 47,
    "id": "sNPhDde6ZArq"
   },
   "outputs": [
    {
     "data": {
      "text/html": [
       "<div>\n",
       "<style scoped>\n",
       "    .dataframe tbody tr th:only-of-type {\n",
       "        vertical-align: middle;\n",
       "    }\n",
       "\n",
       "    .dataframe tbody tr th {\n",
       "        vertical-align: top;\n",
       "    }\n",
       "\n",
       "    .dataframe thead th {\n",
       "        text-align: right;\n",
       "    }\n",
       "</style>\n",
       "<table border=\"1\" class=\"dataframe\">\n",
       "  <thead>\n",
       "    <tr style=\"text-align: right;\">\n",
       "      <th></th>\n",
       "      <th>app_id</th>\n",
       "      <th>app_json</th>\n",
       "      <th>type</th>\n",
       "      <th>record_id</th>\n",
       "      <th>input</th>\n",
       "      <th>output</th>\n",
       "      <th>tags</th>\n",
       "      <th>record_json</th>\n",
       "      <th>cost_json</th>\n",
       "      <th>perf_json</th>\n",
       "      <th>ts</th>\n",
       "      <th>Answer Relevance</th>\n",
       "      <th>Context Relevance</th>\n",
       "      <th>Groundedness</th>\n",
       "      <th>Answer Relevance_calls</th>\n",
       "      <th>Context Relevance_calls</th>\n",
       "      <th>Groundedness_calls</th>\n",
       "      <th>latency</th>\n",
       "      <th>total_tokens</th>\n",
       "      <th>total_cost</th>\n",
       "    </tr>\n",
       "  </thead>\n",
       "  <tbody>\n",
       "    <tr>\n",
       "      <th>0</th>\n",
       "      <td>App_1</td>\n",
       "      <td>{\"tru_class_info\": {\"name\": \"TruLlama\", \"modul...</td>\n",
       "      <td>RetrieverQueryEngine(llama_index.query_engine....</td>\n",
       "      <td>record_hash_47c48da5823443781893d80f6f67a7a4</td>\n",
       "      <td>\"人工智能中的先验知识是如何被存储的？\"</td>\n",
       "      <td>\"先验知识是通过某种方式告诉给机器的知识。它可以包括描述目标、特征、种类及对象之间关系的知识...</td>\n",
       "      <td>-</td>\n",
       "      <td>{\"record_id\": \"record_hash_47c48da582344378189...</td>\n",
       "      <td>{\"n_requests\": 0, \"n_successful_requests\": 0, ...</td>\n",
       "      <td>{\"start_time\": \"2024-02-02T16:25:03.198488\", \"...</td>\n",
       "      <td>2024-02-02T16:25:06.126069</td>\n",
       "      <td>0.7</td>\n",
       "      <td>0.85</td>\n",
       "      <td>1.0</td>\n",
       "      <td>[{'args': {'prompt': '人工智能中的先验知识是如何被存储的？', 're...</td>\n",
       "      <td>[{'args': {'question': '人工智能中的先验知识是如何被存储的？', '...</td>\n",
       "      <td>[{'args': {'source': '知识表⽰是⼈⼯智能领域的核⼼研究问题之⼀，它的⽬...</td>\n",
       "      <td>2</td>\n",
       "      <td>0</td>\n",
       "      <td>0.0</td>\n",
       "    </tr>\n",
       "    <tr>\n",
       "      <th>1</th>\n",
       "      <td>App_1</td>\n",
       "      <td>{\"tru_class_info\": {\"name\": \"TruLlama\", \"modul...</td>\n",
       "      <td>RetrieverQueryEngine(llama_index.query_engine....</td>\n",
       "      <td>record_hash_1cb697249d410e873b043ec5c2359667</td>\n",
       "      <td>\"人工智能的自我更新和自我提升是否可能导致其脱离人类的控制？\"</td>\n",
       "      <td>\"人工智能的自我更新和自我提升可能导致其脱离人类的控制。\"</td>\n",
       "      <td>-</td>\n",
       "      <td>{\"record_id\": \"record_hash_1cb697249d410e873b0...</td>\n",
       "      <td>{\"n_requests\": 0, \"n_successful_requests\": 0, ...</td>\n",
       "      <td>{\"start_time\": \"2024-02-02T16:25:06.255939\", \"...</td>\n",
       "      <td>2024-02-02T16:25:08.118188</td>\n",
       "      <td>1.0</td>\n",
       "      <td>0.50</td>\n",
       "      <td>1.0</td>\n",
       "      <td>[{'args': {'prompt': '人工智能的自我更新和自我提升是否可能导致其脱离人...</td>\n",
       "      <td>[{'args': {'question': '人工智能的自我更新和自我提升是否可能导致其脱...</td>\n",
       "      <td>[{'args': {'source': '⾄少，它本⾝应该有正常的情绪. \n",
       " ⼀个⼈⼯智能...</td>\n",
       "      <td>1</td>\n",
       "      <td>0</td>\n",
       "      <td>0.0</td>\n",
       "    </tr>\n",
       "    <tr>\n",
       "      <th>2</th>\n",
       "      <td>App_1</td>\n",
       "      <td>{\"tru_class_info\": {\"name\": \"TruLlama\", \"modul...</td>\n",
       "      <td>RetrieverQueryEngine(llama_index.query_engine....</td>\n",
       "      <td>record_hash_a621afecc98501ca393d7a9436e9c7e0</td>\n",
       "      <td>\"管理者如何管理AI？\"</td>\n",
       "      <td>\"管理者可以通过以下几点来管理AI：\\n1. 放弃行政工作：将一些繁琐的行政工作交给AI来处...</td>\n",
       "      <td>-</td>\n",
       "      <td>{\"record_id\": \"record_hash_a621afecc98501ca393...</td>\n",
       "      <td>{\"n_requests\": 0, \"n_successful_requests\": 0, ...</td>\n",
       "      <td>{\"start_time\": \"2024-02-02T16:25:08.227341\", \"...</td>\n",
       "      <td>2024-02-02T16:25:15.509122</td>\n",
       "      <td>0.9</td>\n",
       "      <td>0.55</td>\n",
       "      <td>NaN</td>\n",
       "      <td>[{'args': {'prompt': '管理者如何管理AI？', 'response':...</td>\n",
       "      <td>[{'args': {'question': '管理者如何管理AI？', 'statemen...</td>\n",
       "      <td>NaN</td>\n",
       "      <td>7</td>\n",
       "      <td>0</td>\n",
       "      <td>0.0</td>\n",
       "    </tr>\n",
       "    <tr>\n",
       "      <th>3</th>\n",
       "      <td>App_1</td>\n",
       "      <td>{\"tru_class_info\": {\"name\": \"TruLlama\", \"modul...</td>\n",
       "      <td>RetrieverQueryEngine(llama_index.query_engine....</td>\n",
       "      <td>record_hash_20cb24147006b1390f35b70f6488f1ff</td>\n",
       "      <td>\"强人工智能是什么？\"</td>\n",
       "      <td>\"强人工智能是一种观点，认为计算机不仅仅是用来研究人的思维的工具，而是具有自主思维能力的存在...</td>\n",
       "      <td>-</td>\n",
       "      <td>{\"record_id\": \"record_hash_20cb24147006b1390f3...</td>\n",
       "      <td>{\"n_requests\": 0, \"n_successful_requests\": 0, ...</td>\n",
       "      <td>{\"start_time\": \"2024-02-02T16:25:15.603986\", \"...</td>\n",
       "      <td>2024-02-02T16:25:18.277671</td>\n",
       "      <td>0.9</td>\n",
       "      <td>0.75</td>\n",
       "      <td>NaN</td>\n",
       "      <td>[{'args': {'prompt': '强人工智能是什么？', 'response': ...</td>\n",
       "      <td>[{'args': {'question': '强人工智能是什么？', 'statement...</td>\n",
       "      <td>NaN</td>\n",
       "      <td>2</td>\n",
       "      <td>0</td>\n",
       "      <td>0.0</td>\n",
       "    </tr>\n",
       "    <tr>\n",
       "      <th>4</th>\n",
       "      <td>App_1</td>\n",
       "      <td>{\"tru_class_info\": {\"name\": \"TruLlama\", \"modul...</td>\n",
       "      <td>RetrieverQueryEngine(llama_index.query_engine....</td>\n",
       "      <td>record_hash_242b3188def87c7dccea8a44deb172ad</td>\n",
       "      <td>\"人工智能被滥用带来的危害？\"</td>\n",
       "      <td>\"人工智能被滥用可能带来的危害包括违反法律，如著作权法，以及涉及色情影片的处理等相关案件。此...</td>\n",
       "      <td>-</td>\n",
       "      <td>{\"record_id\": \"record_hash_242b3188def87c7dcce...</td>\n",
       "      <td>{\"n_requests\": 0, \"n_successful_requests\": 0, ...</td>\n",
       "      <td>{\"start_time\": \"2024-02-02T16:25:18.371248\", \"...</td>\n",
       "      <td>2024-02-02T16:25:23.671531</td>\n",
       "      <td>0.8</td>\n",
       "      <td>NaN</td>\n",
       "      <td>NaN</td>\n",
       "      <td>[{'args': {'prompt': '人工智能被滥用带来的危害？', 'respons...</td>\n",
       "      <td>NaN</td>\n",
       "      <td>NaN</td>\n",
       "      <td>5</td>\n",
       "      <td>0</td>\n",
       "      <td>0.0</td>\n",
       "    </tr>\n",
       "  </tbody>\n",
       "</table>\n",
       "</div>"
      ],
      "text/plain": [
       "  app_id                                           app_json  \\\n",
       "0  App_1  {\"tru_class_info\": {\"name\": \"TruLlama\", \"modul...   \n",
       "1  App_1  {\"tru_class_info\": {\"name\": \"TruLlama\", \"modul...   \n",
       "2  App_1  {\"tru_class_info\": {\"name\": \"TruLlama\", \"modul...   \n",
       "3  App_1  {\"tru_class_info\": {\"name\": \"TruLlama\", \"modul...   \n",
       "4  App_1  {\"tru_class_info\": {\"name\": \"TruLlama\", \"modul...   \n",
       "\n",
       "                                                type  \\\n",
       "0  RetrieverQueryEngine(llama_index.query_engine....   \n",
       "1  RetrieverQueryEngine(llama_index.query_engine....   \n",
       "2  RetrieverQueryEngine(llama_index.query_engine....   \n",
       "3  RetrieverQueryEngine(llama_index.query_engine....   \n",
       "4  RetrieverQueryEngine(llama_index.query_engine....   \n",
       "\n",
       "                                      record_id  \\\n",
       "0  record_hash_47c48da5823443781893d80f6f67a7a4   \n",
       "1  record_hash_1cb697249d410e873b043ec5c2359667   \n",
       "2  record_hash_a621afecc98501ca393d7a9436e9c7e0   \n",
       "3  record_hash_20cb24147006b1390f35b70f6488f1ff   \n",
       "4  record_hash_242b3188def87c7dccea8a44deb172ad   \n",
       "\n",
       "                             input  \\\n",
       "0             \"人工智能中的先验知识是如何被存储的？\"   \n",
       "1  \"人工智能的自我更新和自我提升是否可能导致其脱离人类的控制？\"   \n",
       "2                     \"管理者如何管理AI？\"   \n",
       "3                      \"强人工智能是什么？\"   \n",
       "4                  \"人工智能被滥用带来的危害？\"   \n",
       "\n",
       "                                              output tags  \\\n",
       "0  \"先验知识是通过某种方式告诉给机器的知识。它可以包括描述目标、特征、种类及对象之间关系的知识...    -   \n",
       "1                      \"人工智能的自我更新和自我提升可能导致其脱离人类的控制。\"    -   \n",
       "2  \"管理者可以通过以下几点来管理AI：\\n1. 放弃行政工作：将一些繁琐的行政工作交给AI来处...    -   \n",
       "3  \"强人工智能是一种观点，认为计算机不仅仅是用来研究人的思维的工具，而是具有自主思维能力的存在...    -   \n",
       "4  \"人工智能被滥用可能带来的危害包括违反法律，如著作权法，以及涉及色情影片的处理等相关案件。此...    -   \n",
       "\n",
       "                                         record_json  \\\n",
       "0  {\"record_id\": \"record_hash_47c48da582344378189...   \n",
       "1  {\"record_id\": \"record_hash_1cb697249d410e873b0...   \n",
       "2  {\"record_id\": \"record_hash_a621afecc98501ca393...   \n",
       "3  {\"record_id\": \"record_hash_20cb24147006b1390f3...   \n",
       "4  {\"record_id\": \"record_hash_242b3188def87c7dcce...   \n",
       "\n",
       "                                           cost_json  \\\n",
       "0  {\"n_requests\": 0, \"n_successful_requests\": 0, ...   \n",
       "1  {\"n_requests\": 0, \"n_successful_requests\": 0, ...   \n",
       "2  {\"n_requests\": 0, \"n_successful_requests\": 0, ...   \n",
       "3  {\"n_requests\": 0, \"n_successful_requests\": 0, ...   \n",
       "4  {\"n_requests\": 0, \"n_successful_requests\": 0, ...   \n",
       "\n",
       "                                           perf_json  \\\n",
       "0  {\"start_time\": \"2024-02-02T16:25:03.198488\", \"...   \n",
       "1  {\"start_time\": \"2024-02-02T16:25:06.255939\", \"...   \n",
       "2  {\"start_time\": \"2024-02-02T16:25:08.227341\", \"...   \n",
       "3  {\"start_time\": \"2024-02-02T16:25:15.603986\", \"...   \n",
       "4  {\"start_time\": \"2024-02-02T16:25:18.371248\", \"...   \n",
       "\n",
       "                           ts  Answer Relevance  Context Relevance  \\\n",
       "0  2024-02-02T16:25:06.126069               0.7               0.85   \n",
       "1  2024-02-02T16:25:08.118188               1.0               0.50   \n",
       "2  2024-02-02T16:25:15.509122               0.9               0.55   \n",
       "3  2024-02-02T16:25:18.277671               0.9               0.75   \n",
       "4  2024-02-02T16:25:23.671531               0.8                NaN   \n",
       "\n",
       "   Groundedness                             Answer Relevance_calls  \\\n",
       "0           1.0  [{'args': {'prompt': '人工智能中的先验知识是如何被存储的？', 're...   \n",
       "1           1.0  [{'args': {'prompt': '人工智能的自我更新和自我提升是否可能导致其脱离人...   \n",
       "2           NaN  [{'args': {'prompt': '管理者如何管理AI？', 'response':...   \n",
       "3           NaN  [{'args': {'prompt': '强人工智能是什么？', 'response': ...   \n",
       "4           NaN  [{'args': {'prompt': '人工智能被滥用带来的危害？', 'respons...   \n",
       "\n",
       "                             Context Relevance_calls  \\\n",
       "0  [{'args': {'question': '人工智能中的先验知识是如何被存储的？', '...   \n",
       "1  [{'args': {'question': '人工智能的自我更新和自我提升是否可能导致其脱...   \n",
       "2  [{'args': {'question': '管理者如何管理AI？', 'statemen...   \n",
       "3  [{'args': {'question': '强人工智能是什么？', 'statement...   \n",
       "4                                                NaN   \n",
       "\n",
       "                                  Groundedness_calls  latency  total_tokens  \\\n",
       "0  [{'args': {'source': '知识表⽰是⼈⼯智能领域的核⼼研究问题之⼀，它的⽬...        2             0   \n",
       "1  [{'args': {'source': '⾄少，它本⾝应该有正常的情绪. \n",
       " ⼀个⼈⼯智能...        1             0   \n",
       "2                                                NaN        7             0   \n",
       "3                                                NaN        2             0   \n",
       "4                                                NaN        5             0   \n",
       "\n",
       "   total_cost  \n",
       "0         0.0  \n",
       "1         0.0  \n",
       "2         0.0  \n",
       "3         0.0  \n",
       "4         0.0  "
      ]
     },
     "execution_count": 26,
     "metadata": {},
     "output_type": "execute_result"
    }
   ],
   "source": [
    "records, feedback = tru.get_records_and_feedback(app_ids=[])\n",
    "\n",
    "# 将记录中的unicode转换成中文，方便查看\n",
    "def decode_unicode(s):\n",
    "    return s.encode('ascii').decode('unicode-escape')\n",
    "\n",
    "records['input'] = records['input'].apply(decode_unicode)\n",
    "records['output'] = records['output'].apply(decode_unicode)\n",
    "\n",
    "records.head()"
   ]
  },
  {
   "cell_type": "code",
   "execution_count": 27,
   "metadata": {
    "height": 81
   },
   "outputs": [
    {
     "data": {
      "text/html": [
       "<div>\n",
       "<style scoped>\n",
       "    .dataframe tbody tr th:only-of-type {\n",
       "        vertical-align: middle;\n",
       "    }\n",
       "\n",
       "    .dataframe tbody tr th {\n",
       "        vertical-align: top;\n",
       "    }\n",
       "\n",
       "    .dataframe thead th {\n",
       "        text-align: right;\n",
       "    }\n",
       "</style>\n",
       "<table border=\"1\" class=\"dataframe\">\n",
       "  <thead>\n",
       "    <tr style=\"text-align: right;\">\n",
       "      <th></th>\n",
       "      <th>input</th>\n",
       "      <th>output</th>\n",
       "      <th>Answer Relevance</th>\n",
       "      <th>Groundedness</th>\n",
       "      <th>Context Relevance</th>\n",
       "    </tr>\n",
       "  </thead>\n",
       "  <tbody>\n",
       "    <tr>\n",
       "      <th>0</th>\n",
       "      <td>\"人工智能中的先验知识是如何被存储的？\"</td>\n",
       "      <td>\"先验知识是通过某种方式告诉给机器的知识。它可以包括描述目标、特征、种类及对象之间关系的知识，也可以描述事件、时间、状态、原因和结果，以及任何需要机器存储的知识。\"</td>\n",
       "      <td>0.7</td>\n",
       "      <td>1.0</td>\n",
       "      <td>0.85</td>\n",
       "    </tr>\n",
       "    <tr>\n",
       "      <th>1</th>\n",
       "      <td>\"人工智能的自我更新和自我提升是否可能导致其脱离人类的控制？\"</td>\n",
       "      <td>\"人工智能的自我更新和自我提升可能导致其脱离人类的控制。\"</td>\n",
       "      <td>1.0</td>\n",
       "      <td>1.0</td>\n",
       "      <td>0.50</td>\n",
       "    </tr>\n",
       "    <tr>\n",
       "      <th>2</th>\n",
       "      <td>\"管理者如何管理AI？\"</td>\n",
       "      <td>\"管理者可以通过以下几点来管理AI：\\n1. 放弃行政工作：将一些繁琐的行政工作交给AI来处理，以便管理者能够更专注于更重要的任务。\\n2. 退守分析预测的领域而强化自己的综合判断力：AI在分析和预测方面具有很高的能力，管理者可以将一些数据分析和预测的工作交给AI，而自己则需要加强自己的综合判断力，以便更好地利用AI的结果做出决策。\\n3. 把AI当作同事，形成协同合作的团队：管理者可以将AI视为团队的一员，与AI进行协同合作，共同解决问题和实现目标。\\n4. 了解AI的局限性：管理者需要明白AI虽然在某些方面具有很高的能力，但仍然存在一些难以克服的瓶颈，例如无法具备创意、智能、同情心和审美等能力。因此，管理者需要在使用AI时注意其局限性，并做出相应的调整和决策。\"</td>\n",
       "      <td>0.9</td>\n",
       "      <td>NaN</td>\n",
       "      <td>0.55</td>\n",
       "    </tr>\n",
       "    <tr>\n",
       "      <th>3</th>\n",
       "      <td>\"强人工智能是什么？\"</td>\n",
       "      <td>\"强人工智能是一种观点，认为计算机不仅仅是用来研究人的思维的工具，而是具有自主思维能力的存在。根据这个观点，只要运行适当的程序，计算机本身就能具备思维能力。\"</td>\n",
       "      <td>0.9</td>\n",
       "      <td>NaN</td>\n",
       "      <td>0.75</td>\n",
       "    </tr>\n",
       "    <tr>\n",
       "      <th>4</th>\n",
       "      <td>\"人工智能被滥用带来的危害？\"</td>\n",
       "      <td>\"人工智能被滥用可能带来的危害包括违反法律，如著作权法，以及涉及色情影片的处理等相关案件。此外，人工智能的发展也可能导致一些职业被机器和人工智能取代，直接影响就业市场。还有一些专家担心，人工智能的发展可能会导致无法控制的局面，甚至可能研发出人们无法理解的武器。因此，人工智能的滥用可能会带来社会和安全方面的危害。\"</td>\n",
       "      <td>0.8</td>\n",
       "      <td>NaN</td>\n",
       "      <td>NaN</td>\n",
       "    </tr>\n",
       "    <tr>\n",
       "      <th>5</th>\n",
       "      <td>\"如何在人工智能领域获得成功？\"</td>\n",
       "      <td>\"在人工智能领域获得成功的方法是通过模仿人类的推理方式，并利用概率和经济学的概念来处理不确定或不完整的信息。此外，寻找更有效的算法也是人工智能研究的重点。人类解决问题的模式通常是使用最快捷、直观的判断，而不是有意识的、一步一步的推导。另外，研究者还可以探索将人类智能简化成符号处理的方法。\"</td>\n",
       "      <td>NaN</td>\n",
       "      <td>NaN</td>\n",
       "      <td>NaN</td>\n",
       "    </tr>\n",
       "  </tbody>\n",
       "</table>\n",
       "</div>"
      ],
      "text/plain": [
       "                             input  \\\n",
       "0             \"人工智能中的先验知识是如何被存储的？\"   \n",
       "1  \"人工智能的自我更新和自我提升是否可能导致其脱离人类的控制？\"   \n",
       "2                     \"管理者如何管理AI？\"   \n",
       "3                      \"强人工智能是什么？\"   \n",
       "4                  \"人工智能被滥用带来的危害？\"   \n",
       "5                 \"如何在人工智能领域获得成功？\"   \n",
       "\n",
       "                                                                                                                                                                                                                                                                                                                                              output  \\\n",
       "0                                                                                                                                                                                                                                                                 \"先验知识是通过某种方式告诉给机器的知识。它可以包括描述目标、特征、种类及对象之间关系的知识，也可以描述事件、时间、状态、原因和结果，以及任何需要机器存储的知识。\"   \n",
       "1                                                                                                                                                                                                                                                                                                                      \"人工智能的自我更新和自我提升可能导致其脱离人类的控制。\"   \n",
       "2  \"管理者可以通过以下几点来管理AI：\\n1. 放弃行政工作：将一些繁琐的行政工作交给AI来处理，以便管理者能够更专注于更重要的任务。\\n2. 退守分析预测的领域而强化自己的综合判断力：AI在分析和预测方面具有很高的能力，管理者可以将一些数据分析和预测的工作交给AI，而自己则需要加强自己的综合判断力，以便更好地利用AI的结果做出决策。\\n3. 把AI当作同事，形成协同合作的团队：管理者可以将AI视为团队的一员，与AI进行协同合作，共同解决问题和实现目标。\\n4. 了解AI的局限性：管理者需要明白AI虽然在某些方面具有很高的能力，但仍然存在一些难以克服的瓶颈，例如无法具备创意、智能、同情心和审美等能力。因此，管理者需要在使用AI时注意其局限性，并做出相应的调整和决策。\"   \n",
       "3                                                                                                                                                                                                                                                                    \"强人工智能是一种观点，认为计算机不仅仅是用来研究人的思维的工具，而是具有自主思维能力的存在。根据这个观点，只要运行适当的程序，计算机本身就能具备思维能力。\"   \n",
       "4                                                                                                                                                                                      \"人工智能被滥用可能带来的危害包括违反法律，如著作权法，以及涉及色情影片的处理等相关案件。此外，人工智能的发展也可能导致一些职业被机器和人工智能取代，直接影响就业市场。还有一些专家担心，人工智能的发展可能会导致无法控制的局面，甚至可能研发出人们无法理解的武器。因此，人工智能的滥用可能会带来社会和安全方面的危害。\"   \n",
       "5                                                                                                                                                                                                  \"在人工智能领域获得成功的方法是通过模仿人类的推理方式，并利用概率和经济学的概念来处理不确定或不完整的信息。此外，寻找更有效的算法也是人工智能研究的重点。人类解决问题的模式通常是使用最快捷、直观的判断，而不是有意识的、一步一步的推导。另外，研究者还可以探索将人类智能简化成符号处理的方法。\"   \n",
       "\n",
       "   Answer Relevance  Groundedness  Context Relevance  \n",
       "0               0.7           1.0               0.85  \n",
       "1               1.0           1.0               0.50  \n",
       "2               0.9           NaN               0.55  \n",
       "3               0.9           NaN               0.75  \n",
       "4               0.8           NaN                NaN  \n",
       "5               NaN           NaN                NaN  "
      ]
     },
     "metadata": {},
     "output_type": "display_data"
    }
   ],
   "source": [
    "import pandas as pd\n",
    "\n",
    "# 展示评估结果\n",
    "pd.set_option(\"display.max_colwidth\", None)\n",
    "display(records[[\"input\", \"output\"] + feedback])"
   ]
  },
  {
   "cell_type": "code",
   "execution_count": 28,
   "metadata": {
    "height": 30
   },
   "outputs": [
    {
     "data": {
      "text/html": [
       "<div>\n",
       "<style scoped>\n",
       "    .dataframe tbody tr th:only-of-type {\n",
       "        vertical-align: middle;\n",
       "    }\n",
       "\n",
       "    .dataframe tbody tr th {\n",
       "        vertical-align: top;\n",
       "    }\n",
       "\n",
       "    .dataframe thead th {\n",
       "        text-align: right;\n",
       "    }\n",
       "</style>\n",
       "<table border=\"1\" class=\"dataframe\">\n",
       "  <thead>\n",
       "    <tr style=\"text-align: right;\">\n",
       "      <th></th>\n",
       "      <th>Answer Relevance</th>\n",
       "      <th>Groundedness</th>\n",
       "      <th>Context Relevance</th>\n",
       "      <th>latency</th>\n",
       "      <th>total_cost</th>\n",
       "    </tr>\n",
       "    <tr>\n",
       "      <th>app_id</th>\n",
       "      <th></th>\n",
       "      <th></th>\n",
       "      <th></th>\n",
       "      <th></th>\n",
       "      <th></th>\n",
       "    </tr>\n",
       "  </thead>\n",
       "  <tbody>\n",
       "    <tr>\n",
       "      <th>App_1</th>\n",
       "      <td>0.86</td>\n",
       "      <td>1.0</td>\n",
       "      <td>0.6625</td>\n",
       "      <td>3.333333</td>\n",
       "      <td>0.0</td>\n",
       "    </tr>\n",
       "  </tbody>\n",
       "</table>\n",
       "</div>"
      ],
      "text/plain": [
       "        Answer Relevance  Groundedness  Context Relevance   latency  \\\n",
       "app_id                                                                \n",
       "App_1               0.86           1.0             0.6625  3.333333   \n",
       "\n",
       "        total_cost  \n",
       "app_id              \n",
       "App_1          0.0  "
      ]
     },
     "execution_count": 28,
     "metadata": {},
     "output_type": "execute_result"
    }
   ],
   "source": [
    "# 获取leaderboard\n",
    "tru.get_leaderboard(app_ids=[])"
   ]
  },
  {
   "cell_type": "code",
   "execution_count": 29,
   "metadata": {
    "height": 30,
    "id": "6Yp4_e4faZVD"
   },
   "outputs": [
    {
     "name": "stdout",
     "output_type": "stream",
     "text": [
      "Starting dashboard ...\n"
     ]
    },
    {
     "name": "stderr",
     "output_type": "stream",
     "text": [
      "python(88247) MallocStackLogging: can't turn off malloc stack logging because it was not enabled.\n",
      "huggingface/tokenizers: The current process just got forked, after parallelism has already been used. Disabling parallelism to avoid deadlocks...\n",
      "To disable this warning, you can either:\n",
      "\t- Avoid using `tokenizers` before the fork if possible\n",
      "\t- Explicitly set the environment variable TOKENIZERS_PARALLELISM=(true | false)\n"
     ]
    },
    {
     "data": {
      "application/vnd.jupyter.widget-view+json": {
       "model_id": "618ae07571c141d883fbc53add833972",
       "version_major": 2,
       "version_minor": 0
      },
      "text/plain": [
       "Accordion(children=(VBox(children=(VBox(children=(Label(value='STDOUT'), Output())), VBox(children=(Label(valu…"
      ]
     },
     "metadata": {},
     "output_type": "display_data"
    },
    {
     "name": "stdout",
     "output_type": "stream",
     "text": [
      "Dashboard started at http://192.168.2.7:8501 .\n"
     ]
    },
    {
     "data": {
      "text/plain": [
       "<Popen: returncode: None args: ['streamlit', 'run', '--server.headless=True'...>"
      ]
     },
     "execution_count": 29,
     "metadata": {},
     "output_type": "execute_result"
    }
   ],
   "source": [
    "# 运行dashboard\n",
    "# 注意：请检查端口是否被占用，如果被占用，请修改端口号\n",
    "tru.run_dashboard()"
   ]
  },
  {
   "cell_type": "code",
   "execution_count": null,
   "metadata": {},
   "outputs": [],
   "source": []
  }
 ],
 "metadata": {
  "accelerator": "GPU",
  "colab": {
   "gpuType": "T4",
   "provenance": [
    {
     "file_id": "1ChKW1kEIUcUVDDTWjpA5Tf_ib3Hhp3uS",
     "timestamp": 1695164681916
    }
   ]
  },
  "kernelspec": {
   "display_name": "Python 3 (ipykernel)",
   "language": "python",
   "name": "python3"
  },
  "language_info": {
   "codemirror_mode": {
    "name": "ipython",
    "version": 3
   },
   "file_extension": ".py",
   "mimetype": "text/x-python",
   "name": "python",
   "nbconvert_exporter": "python",
   "pygments_lexer": "ipython3",
   "version": "3.10.13"
  }
 },
 "nbformat": 4,
 "nbformat_minor": 4
}
